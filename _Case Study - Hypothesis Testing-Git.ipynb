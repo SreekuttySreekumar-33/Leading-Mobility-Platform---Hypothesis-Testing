{
 "cells": [
  {
   "cell_type": "markdown",
   "id": "07d83080",
   "metadata": {},
   "source": [
    "### Problem Statement"
   ]
  },
  {
   "cell_type": "markdown",
   "id": "9105a39c",
   "metadata": {},
   "source": [
    "### The client is a technology-driven mobility platform in India. It aims to empower residents in cities to create a paradigm shift in the mobility industry, by making the urban commute more efficient and eco-friendly. Using Micro Mobility Vehicles (MMVs) through a user-friendly mobile app, they enables first and last-mile connectivity that is seamless, shared and sustainable.\n",
    "\n",
    "### They are seeing a slump in sales and is looking to identify the key factors that influence the demand for their products based on the data collected so far. The factors could be economic, demographic, seasonal etc. Primary focus in this analysis is on seasonal factors and office going patterns. The goal is to use hypothesis testing to help identify which factors have an effect on the sales to help them narrow down on the key areas of focus."
   ]
  },
  {
   "cell_type": "code",
   "execution_count": 110,
   "id": "335334cf",
   "metadata": {},
   "outputs": [],
   "source": [
    "# Importing necessary libraries\n",
    "import numpy as np\n",
    "import pandas as pd\n",
    "import matplotlib.pyplot as plt\n",
    "import seaborn as sns\n",
    "\n",
    "from scipy.stats import ttest_ind\n",
    "from scipy.stats import chi2_contingency\n",
    "from scipy.stats import f_oneway"
   ]
  },
  {
   "cell_type": "code",
   "execution_count": 111,
   "id": "a2f89fed",
   "metadata": {},
   "outputs": [],
   "source": [
    "# Importing the dataset and creating a Pandas Dataframe\n",
    "df=pd.read_csv('https://d2beiqkhq929f0.cloudfront.net/public_assets/assets/000/001/428/original/bike_sharing.csv?1642089089')"
   ]
  },
  {
   "cell_type": "code",
   "execution_count": 112,
   "id": "a260180e",
   "metadata": {},
   "outputs": [
    {
     "data": {
      "text/html": [
       "<div>\n",
       "<style scoped>\n",
       "    .dataframe tbody tr th:only-of-type {\n",
       "        vertical-align: middle;\n",
       "    }\n",
       "\n",
       "    .dataframe tbody tr th {\n",
       "        vertical-align: top;\n",
       "    }\n",
       "\n",
       "    .dataframe thead th {\n",
       "        text-align: right;\n",
       "    }\n",
       "</style>\n",
       "<table border=\"1\" class=\"dataframe\">\n",
       "  <thead>\n",
       "    <tr style=\"text-align: right;\">\n",
       "      <th></th>\n",
       "      <th>datetime</th>\n",
       "      <th>season</th>\n",
       "      <th>holiday</th>\n",
       "      <th>workingday</th>\n",
       "      <th>weather</th>\n",
       "      <th>temp</th>\n",
       "      <th>atemp</th>\n",
       "      <th>humidity</th>\n",
       "      <th>windspeed</th>\n",
       "      <th>casual</th>\n",
       "      <th>registered</th>\n",
       "      <th>count</th>\n",
       "    </tr>\n",
       "  </thead>\n",
       "  <tbody>\n",
       "    <tr>\n",
       "      <th>0</th>\n",
       "      <td>2011-01-01 00:00:00</td>\n",
       "      <td>1</td>\n",
       "      <td>0</td>\n",
       "      <td>0</td>\n",
       "      <td>1</td>\n",
       "      <td>9.84</td>\n",
       "      <td>14.395</td>\n",
       "      <td>81</td>\n",
       "      <td>0.0</td>\n",
       "      <td>3</td>\n",
       "      <td>13</td>\n",
       "      <td>16</td>\n",
       "    </tr>\n",
       "    <tr>\n",
       "      <th>1</th>\n",
       "      <td>2011-01-01 01:00:00</td>\n",
       "      <td>1</td>\n",
       "      <td>0</td>\n",
       "      <td>0</td>\n",
       "      <td>1</td>\n",
       "      <td>9.02</td>\n",
       "      <td>13.635</td>\n",
       "      <td>80</td>\n",
       "      <td>0.0</td>\n",
       "      <td>8</td>\n",
       "      <td>32</td>\n",
       "      <td>40</td>\n",
       "    </tr>\n",
       "    <tr>\n",
       "      <th>2</th>\n",
       "      <td>2011-01-01 02:00:00</td>\n",
       "      <td>1</td>\n",
       "      <td>0</td>\n",
       "      <td>0</td>\n",
       "      <td>1</td>\n",
       "      <td>9.02</td>\n",
       "      <td>13.635</td>\n",
       "      <td>80</td>\n",
       "      <td>0.0</td>\n",
       "      <td>5</td>\n",
       "      <td>27</td>\n",
       "      <td>32</td>\n",
       "    </tr>\n",
       "    <tr>\n",
       "      <th>3</th>\n",
       "      <td>2011-01-01 03:00:00</td>\n",
       "      <td>1</td>\n",
       "      <td>0</td>\n",
       "      <td>0</td>\n",
       "      <td>1</td>\n",
       "      <td>9.84</td>\n",
       "      <td>14.395</td>\n",
       "      <td>75</td>\n",
       "      <td>0.0</td>\n",
       "      <td>3</td>\n",
       "      <td>10</td>\n",
       "      <td>13</td>\n",
       "    </tr>\n",
       "    <tr>\n",
       "      <th>4</th>\n",
       "      <td>2011-01-01 04:00:00</td>\n",
       "      <td>1</td>\n",
       "      <td>0</td>\n",
       "      <td>0</td>\n",
       "      <td>1</td>\n",
       "      <td>9.84</td>\n",
       "      <td>14.395</td>\n",
       "      <td>75</td>\n",
       "      <td>0.0</td>\n",
       "      <td>0</td>\n",
       "      <td>1</td>\n",
       "      <td>1</td>\n",
       "    </tr>\n",
       "  </tbody>\n",
       "</table>\n",
       "</div>"
      ],
      "text/plain": [
       "              datetime  season  holiday  workingday  weather  temp   atemp  \\\n",
       "0  2011-01-01 00:00:00       1        0           0        1  9.84  14.395   \n",
       "1  2011-01-01 01:00:00       1        0           0        1  9.02  13.635   \n",
       "2  2011-01-01 02:00:00       1        0           0        1  9.02  13.635   \n",
       "3  2011-01-01 03:00:00       1        0           0        1  9.84  14.395   \n",
       "4  2011-01-01 04:00:00       1        0           0        1  9.84  14.395   \n",
       "\n",
       "   humidity  windspeed  casual  registered  count  \n",
       "0        81        0.0       3          13     16  \n",
       "1        80        0.0       8          32     40  \n",
       "2        80        0.0       5          27     32  \n",
       "3        75        0.0       3          10     13  \n",
       "4        75        0.0       0           1      1  "
      ]
     },
     "execution_count": 112,
     "metadata": {},
     "output_type": "execute_result"
    }
   ],
   "source": [
    "# Printing the first 5 rows of the Dataframe\n",
    "df.head()"
   ]
  },
  {
   "cell_type": "markdown",
   "id": "1fde73f1",
   "metadata": {},
   "source": [
    "### 1. Exploratory Data Analysis"
   ]
  },
  {
   "cell_type": "markdown",
   "id": "4d90d723",
   "metadata": {},
   "source": [
    "### 1.1 Primary Analysis"
   ]
  },
  {
   "cell_type": "code",
   "execution_count": 113,
   "id": "6504c792",
   "metadata": {},
   "outputs": [
    {
     "data": {
      "text/plain": [
       "(10886, 12)"
      ]
     },
     "execution_count": 113,
     "metadata": {},
     "output_type": "execute_result"
    }
   ],
   "source": [
    "# Shape of the dataset\n",
    "df.shape"
   ]
  },
  {
   "cell_type": "code",
   "execution_count": 114,
   "id": "5cf5b98f",
   "metadata": {},
   "outputs": [
    {
     "name": "stdout",
     "output_type": "stream",
     "text": [
      "<class 'pandas.core.frame.DataFrame'>\n",
      "RangeIndex: 10886 entries, 0 to 10885\n",
      "Data columns (total 12 columns):\n",
      " #   Column      Non-Null Count  Dtype  \n",
      "---  ------      --------------  -----  \n",
      " 0   datetime    10886 non-null  object \n",
      " 1   season      10886 non-null  int64  \n",
      " 2   holiday     10886 non-null  int64  \n",
      " 3   workingday  10886 non-null  int64  \n",
      " 4   weather     10886 non-null  int64  \n",
      " 5   temp        10886 non-null  float64\n",
      " 6   atemp       10886 non-null  float64\n",
      " 7   humidity    10886 non-null  int64  \n",
      " 8   windspeed   10886 non-null  float64\n",
      " 9   casual      10886 non-null  int64  \n",
      " 10  registered  10886 non-null  int64  \n",
      " 11  count       10886 non-null  int64  \n",
      "dtypes: float64(3), int64(8), object(1)\n",
      "memory usage: 1020.7+ KB\n"
     ]
    }
   ],
   "source": [
    "# Summary of columns and datatypes\n",
    "df.info()"
   ]
  },
  {
   "cell_type": "code",
   "execution_count": 115,
   "id": "ac918fdc",
   "metadata": {},
   "outputs": [
    {
     "data": {
      "text/html": [
       "<div>\n",
       "<style scoped>\n",
       "    .dataframe tbody tr th:only-of-type {\n",
       "        vertical-align: middle;\n",
       "    }\n",
       "\n",
       "    .dataframe tbody tr th {\n",
       "        vertical-align: top;\n",
       "    }\n",
       "\n",
       "    .dataframe thead th {\n",
       "        text-align: right;\n",
       "    }\n",
       "</style>\n",
       "<table border=\"1\" class=\"dataframe\">\n",
       "  <thead>\n",
       "    <tr style=\"text-align: right;\">\n",
       "      <th></th>\n",
       "      <th>season</th>\n",
       "      <th>holiday</th>\n",
       "      <th>workingday</th>\n",
       "      <th>weather</th>\n",
       "      <th>temp</th>\n",
       "      <th>atemp</th>\n",
       "      <th>humidity</th>\n",
       "      <th>windspeed</th>\n",
       "      <th>casual</th>\n",
       "      <th>registered</th>\n",
       "      <th>count</th>\n",
       "    </tr>\n",
       "  </thead>\n",
       "  <tbody>\n",
       "    <tr>\n",
       "      <th>count</th>\n",
       "      <td>10886.000000</td>\n",
       "      <td>10886.000000</td>\n",
       "      <td>10886.000000</td>\n",
       "      <td>10886.000000</td>\n",
       "      <td>10886.00000</td>\n",
       "      <td>10886.000000</td>\n",
       "      <td>10886.000000</td>\n",
       "      <td>10886.000000</td>\n",
       "      <td>10886.000000</td>\n",
       "      <td>10886.000000</td>\n",
       "      <td>10886.000000</td>\n",
       "    </tr>\n",
       "    <tr>\n",
       "      <th>mean</th>\n",
       "      <td>2.506614</td>\n",
       "      <td>0.028569</td>\n",
       "      <td>0.680875</td>\n",
       "      <td>1.418427</td>\n",
       "      <td>20.23086</td>\n",
       "      <td>23.655084</td>\n",
       "      <td>61.886460</td>\n",
       "      <td>12.799395</td>\n",
       "      <td>36.021955</td>\n",
       "      <td>155.552177</td>\n",
       "      <td>191.574132</td>\n",
       "    </tr>\n",
       "    <tr>\n",
       "      <th>std</th>\n",
       "      <td>1.116174</td>\n",
       "      <td>0.166599</td>\n",
       "      <td>0.466159</td>\n",
       "      <td>0.633839</td>\n",
       "      <td>7.79159</td>\n",
       "      <td>8.474601</td>\n",
       "      <td>19.245033</td>\n",
       "      <td>8.164537</td>\n",
       "      <td>49.960477</td>\n",
       "      <td>151.039033</td>\n",
       "      <td>181.144454</td>\n",
       "    </tr>\n",
       "    <tr>\n",
       "      <th>min</th>\n",
       "      <td>1.000000</td>\n",
       "      <td>0.000000</td>\n",
       "      <td>0.000000</td>\n",
       "      <td>1.000000</td>\n",
       "      <td>0.82000</td>\n",
       "      <td>0.760000</td>\n",
       "      <td>0.000000</td>\n",
       "      <td>0.000000</td>\n",
       "      <td>0.000000</td>\n",
       "      <td>0.000000</td>\n",
       "      <td>1.000000</td>\n",
       "    </tr>\n",
       "    <tr>\n",
       "      <th>25%</th>\n",
       "      <td>2.000000</td>\n",
       "      <td>0.000000</td>\n",
       "      <td>0.000000</td>\n",
       "      <td>1.000000</td>\n",
       "      <td>13.94000</td>\n",
       "      <td>16.665000</td>\n",
       "      <td>47.000000</td>\n",
       "      <td>7.001500</td>\n",
       "      <td>4.000000</td>\n",
       "      <td>36.000000</td>\n",
       "      <td>42.000000</td>\n",
       "    </tr>\n",
       "    <tr>\n",
       "      <th>50%</th>\n",
       "      <td>3.000000</td>\n",
       "      <td>0.000000</td>\n",
       "      <td>1.000000</td>\n",
       "      <td>1.000000</td>\n",
       "      <td>20.50000</td>\n",
       "      <td>24.240000</td>\n",
       "      <td>62.000000</td>\n",
       "      <td>12.998000</td>\n",
       "      <td>17.000000</td>\n",
       "      <td>118.000000</td>\n",
       "      <td>145.000000</td>\n",
       "    </tr>\n",
       "    <tr>\n",
       "      <th>75%</th>\n",
       "      <td>4.000000</td>\n",
       "      <td>0.000000</td>\n",
       "      <td>1.000000</td>\n",
       "      <td>2.000000</td>\n",
       "      <td>26.24000</td>\n",
       "      <td>31.060000</td>\n",
       "      <td>77.000000</td>\n",
       "      <td>16.997900</td>\n",
       "      <td>49.000000</td>\n",
       "      <td>222.000000</td>\n",
       "      <td>284.000000</td>\n",
       "    </tr>\n",
       "    <tr>\n",
       "      <th>max</th>\n",
       "      <td>4.000000</td>\n",
       "      <td>1.000000</td>\n",
       "      <td>1.000000</td>\n",
       "      <td>4.000000</td>\n",
       "      <td>41.00000</td>\n",
       "      <td>45.455000</td>\n",
       "      <td>100.000000</td>\n",
       "      <td>56.996900</td>\n",
       "      <td>367.000000</td>\n",
       "      <td>886.000000</td>\n",
       "      <td>977.000000</td>\n",
       "    </tr>\n",
       "  </tbody>\n",
       "</table>\n",
       "</div>"
      ],
      "text/plain": [
       "             season       holiday    workingday       weather         temp  \\\n",
       "count  10886.000000  10886.000000  10886.000000  10886.000000  10886.00000   \n",
       "mean       2.506614      0.028569      0.680875      1.418427     20.23086   \n",
       "std        1.116174      0.166599      0.466159      0.633839      7.79159   \n",
       "min        1.000000      0.000000      0.000000      1.000000      0.82000   \n",
       "25%        2.000000      0.000000      0.000000      1.000000     13.94000   \n",
       "50%        3.000000      0.000000      1.000000      1.000000     20.50000   \n",
       "75%        4.000000      0.000000      1.000000      2.000000     26.24000   \n",
       "max        4.000000      1.000000      1.000000      4.000000     41.00000   \n",
       "\n",
       "              atemp      humidity     windspeed        casual    registered  \\\n",
       "count  10886.000000  10886.000000  10886.000000  10886.000000  10886.000000   \n",
       "mean      23.655084     61.886460     12.799395     36.021955    155.552177   \n",
       "std        8.474601     19.245033      8.164537     49.960477    151.039033   \n",
       "min        0.760000      0.000000      0.000000      0.000000      0.000000   \n",
       "25%       16.665000     47.000000      7.001500      4.000000     36.000000   \n",
       "50%       24.240000     62.000000     12.998000     17.000000    118.000000   \n",
       "75%       31.060000     77.000000     16.997900     49.000000    222.000000   \n",
       "max       45.455000    100.000000     56.996900    367.000000    886.000000   \n",
       "\n",
       "              count  \n",
       "count  10886.000000  \n",
       "mean     191.574132  \n",
       "std      181.144454  \n",
       "min        1.000000  \n",
       "25%       42.000000  \n",
       "50%      145.000000  \n",
       "75%      284.000000  \n",
       "max      977.000000  "
      ]
     },
     "execution_count": 115,
     "metadata": {},
     "output_type": "execute_result"
    }
   ],
   "source": [
    "# Statistical Summary\n",
    "df.describe()"
   ]
  },
  {
   "cell_type": "markdown",
   "id": "066bbd1a",
   "metadata": {},
   "source": [
    "### 1. The dataset has 10886 rows and 12 columns\n",
    "### 2. 8 columns are of integer data type, 3 of float data type and 1 of object datatype\n",
    "### 3. The datetime column is of object datatype and needs to be converted to datetime type. Also, season, holiday, workingday and weather are categorical columns and need to be converted.\n",
    "### 3. There are no missing values in any of the columns\n",
    "### 4. The statistical analysis gives the following insights\n",
    "###     4.1 75% of values in weather column lie below 2 which means there were very few days with light snow or heavy rain\n",
    "###     4.2 Mean and Median temp is around 20 degree Celsius with a maximum of 41\n",
    "###     4.3 Mean humidity is 61 with a maximum value of 100\n",
    "###     4.4 Mean windspeed is 12.8 with maximum of 56.9 indicating presence of outliers\n",
    "###     4.5 The maximum number of total customers in a time of the day was 977 and minimum was 1. The mean value is 191 and there is a good chance of outlier presence "
   ]
  },
  {
   "cell_type": "markdown",
   "id": "48771692",
   "metadata": {},
   "source": [
    "### 1.2 Non Graphical Analysis"
   ]
  },
  {
   "cell_type": "code",
   "execution_count": 116,
   "id": "5150f798",
   "metadata": {},
   "outputs": [],
   "source": [
    "# Converting datetime column into datetime datatype\n",
    "df['datetime']=pd.to_datetime(df['datetime'])"
   ]
  },
  {
   "cell_type": "code",
   "execution_count": 117,
   "id": "2dc00c08",
   "metadata": {},
   "outputs": [
    {
     "name": "stdout",
     "output_type": "stream",
     "text": [
      "<class 'pandas.core.frame.DataFrame'>\n",
      "RangeIndex: 10886 entries, 0 to 10885\n",
      "Data columns (total 12 columns):\n",
      " #   Column      Non-Null Count  Dtype         \n",
      "---  ------      --------------  -----         \n",
      " 0   datetime    10886 non-null  datetime64[ns]\n",
      " 1   season      10886 non-null  int64         \n",
      " 2   holiday     10886 non-null  int64         \n",
      " 3   workingday  10886 non-null  int64         \n",
      " 4   weather     10886 non-null  int64         \n",
      " 5   temp        10886 non-null  float64       \n",
      " 6   atemp       10886 non-null  float64       \n",
      " 7   humidity    10886 non-null  int64         \n",
      " 8   windspeed   10886 non-null  float64       \n",
      " 9   casual      10886 non-null  int64         \n",
      " 10  registered  10886 non-null  int64         \n",
      " 11  count       10886 non-null  int64         \n",
      "dtypes: datetime64[ns](1), float64(3), int64(8)\n",
      "memory usage: 1020.7 KB\n"
     ]
    }
   ],
   "source": [
    "#Checking updated info \n",
    "df.info()"
   ]
  },
  {
   "cell_type": "code",
   "execution_count": 118,
   "id": "8dabcaf3",
   "metadata": {},
   "outputs": [
    {
     "data": {
      "text/plain": [
       "4    2734\n",
       "2    2733\n",
       "3    2733\n",
       "1    2686\n",
       "Name: season, dtype: int64"
      ]
     },
     "execution_count": 118,
     "metadata": {},
     "output_type": "execute_result"
    }
   ],
   "source": [
    "df['season'].value_counts()"
   ]
  },
  {
   "cell_type": "code",
   "execution_count": 119,
   "id": "04401f37",
   "metadata": {},
   "outputs": [
    {
     "data": {
      "text/plain": [
       "0.0    443\n",
       "1.0     13\n",
       "Name: holiday, dtype: int64"
      ]
     },
     "execution_count": 119,
     "metadata": {},
     "output_type": "execute_result"
    }
   ],
   "source": [
    "a=df.groupby(df['datetime'].dt.date)['holiday'].mean().reset_index()\n",
    "a['holiday'].value_counts()"
   ]
  },
  {
   "cell_type": "code",
   "execution_count": 120,
   "id": "f7c8e6ab",
   "metadata": {},
   "outputs": [
    {
     "data": {
      "text/plain": [
       "1.0    311\n",
       "0.0    145\n",
       "Name: workingday, dtype: int64"
      ]
     },
     "execution_count": 120,
     "metadata": {},
     "output_type": "execute_result"
    }
   ],
   "source": [
    "a=df.groupby(df['datetime'].dt.date)['workingday'].mean().reset_index()\n",
    "a['workingday'].value_counts()"
   ]
  },
  {
   "cell_type": "code",
   "execution_count": 121,
   "id": "30d47df5",
   "metadata": {},
   "outputs": [
    {
     "data": {
      "text/plain": [
       "456"
      ]
     },
     "execution_count": 121,
     "metadata": {},
     "output_type": "execute_result"
    }
   ],
   "source": [
    "# Number of unique days in the data\n",
    "df['datetime'].dt.date.nunique()"
   ]
  },
  {
   "cell_type": "code",
   "execution_count": 122,
   "id": "7931bcad",
   "metadata": {},
   "outputs": [
    {
     "data": {
      "text/plain": [
       "2"
      ]
     },
     "execution_count": 122,
     "metadata": {},
     "output_type": "execute_result"
    }
   ],
   "source": [
    "# Number of unique years in the data\n",
    "df['datetime'].dt.year.nunique()"
   ]
  },
  {
   "cell_type": "code",
   "execution_count": 123,
   "id": "e1df48d3",
   "metadata": {},
   "outputs": [
    {
     "data": {
      "text/plain": [
       "datetime.date(2012, 12, 19)"
      ]
     },
     "execution_count": 123,
     "metadata": {},
     "output_type": "execute_result"
    }
   ],
   "source": [
    "# End date in the data\n",
    "df['datetime'].dt.date.max()"
   ]
  },
  {
   "cell_type": "code",
   "execution_count": 124,
   "id": "1d02cd2b",
   "metadata": {},
   "outputs": [
    {
     "data": {
      "text/plain": [
       "datetime.date(2011, 1, 1)"
      ]
     },
     "execution_count": 124,
     "metadata": {},
     "output_type": "execute_result"
    }
   ],
   "source": [
    "# Start date in the data\n",
    "df['datetime'].dt.date.min()"
   ]
  },
  {
   "cell_type": "code",
   "execution_count": 125,
   "id": "c80ef8e5",
   "metadata": {},
   "outputs": [
    {
     "data": {
      "text/plain": [
       "datetime\n",
       "2012-09-12 18:00:00    977\n",
       "2012-09-11 17:00:00    970\n",
       "2012-09-10 18:00:00    968\n",
       "2012-10-10 17:00:00    948\n",
       "2012-10-16 17:00:00    943\n",
       "                      ... \n",
       "2011-03-02 04:00:00      1\n",
       "2011-05-04 03:00:00      1\n",
       "2011-04-12 03:00:00      1\n",
       "2011-02-12 05:00:00      1\n",
       "2012-04-04 04:00:00      1\n",
       "Name: count, Length: 10886, dtype: int64"
      ]
     },
     "execution_count": 125,
     "metadata": {},
     "output_type": "execute_result"
    }
   ],
   "source": [
    "# Day with maximum customers\n",
    "df.groupby('datetime')['count'].sum().sort_values(ascending=False)"
   ]
  },
  {
   "cell_type": "markdown",
   "id": "e4776a10",
   "metadata": {},
   "source": [
    "### 1. The dataset covers data for 2 years from 2011-01-01 to 2012-12-19\n",
    "### 2. The count of users has been taken for 456 days across multiple times in a day\n",
    "### 3. The maximum number of customers in a day was 977 on 12th September, 2012"
   ]
  },
  {
   "cell_type": "markdown",
   "id": "c2d96ccc",
   "metadata": {},
   "source": [
    "### 1.3 Univariate Analysis"
   ]
  },
  {
   "cell_type": "markdown",
   "id": "3e135b3f",
   "metadata": {},
   "source": [
    "### 1. Season"
   ]
  },
  {
   "cell_type": "code",
   "execution_count": 126,
   "id": "c3c03c32",
   "metadata": {},
   "outputs": [
    {
     "data": {
      "text/plain": [
       "<AxesSubplot:xlabel='season', ylabel='count'>"
      ]
     },
     "execution_count": 126,
     "metadata": {},
     "output_type": "execute_result"
    },
    {
     "data": {
      "image/png": "[encoded data removed]",
      "text/plain": [
       "<Figure size 432x288 with 1 Axes>"
      ]
     },
     "metadata": {
      "needs_background": "light"
     },
     "output_type": "display_data"
    }
   ],
   "source": [
    "# Determining the season on each date and plotting the count of each season\n",
    "a=df.groupby(df['datetime'].dt.date)['season'].mean().reset_index()\n",
    "sns.countplot(data=a,x=a['season'])"
   ]
  },
  {
   "cell_type": "markdown",
   "id": "a76ca03f",
   "metadata": {},
   "source": [
    "### Both the years combined, saw an equal number of days across seasons of spring, summer, fall and winter"
   ]
  },
  {
   "cell_type": "markdown",
   "id": "3b52cff8",
   "metadata": {},
   "source": [
    "### 2. Holiday"
   ]
  },
  {
   "cell_type": "code",
   "execution_count": 127,
   "id": "20360f71",
   "metadata": {},
   "outputs": [
    {
     "data": {
      "text/plain": [
       "<AxesSubplot:xlabel='holiday', ylabel='count'>"
      ]
     },
     "execution_count": 127,
     "metadata": {},
     "output_type": "execute_result"
    },
    {
     "data": {
      "image/png": "[encoded data removed]",
      "text/plain": [
       "<Figure size 432x288 with 1 Axes>"
      ]
     },
     "metadata": {
      "needs_background": "light"
     },
     "output_type": "display_data"
    }
   ],
   "source": [
    "# Determining if it was a holiday on each date and plotting the count of holidays\n",
    "a=df.groupby(df['datetime'].dt.date)['holiday'].mean().reset_index()\n",
    "sns.countplot(data=a,x=a['holiday'])"
   ]
  },
  {
   "cell_type": "markdown",
   "id": "c3c80e8d",
   "metadata": {},
   "source": [
    "### The number of public holidays across both the years were around 13"
   ]
  },
  {
   "cell_type": "markdown",
   "id": "f887cbd4",
   "metadata": {},
   "source": [
    "### 3. Workingday"
   ]
  },
  {
   "cell_type": "code",
   "execution_count": 128,
   "id": "51c839f2",
   "metadata": {},
   "outputs": [
    {
     "data": {
      "text/plain": [
       "<AxesSubplot:xlabel='workingday', ylabel='count'>"
      ]
     },
     "execution_count": 128,
     "metadata": {},
     "output_type": "execute_result"
    },
    {
     "data": {
      "image/png": "[encoded data removed]",
      "text/plain": [
       "<Figure size 432x288 with 1 Axes>"
      ]
     },
     "metadata": {
      "needs_background": "light"
     },
     "output_type": "display_data"
    }
   ],
   "source": [
    "# Determining if it was a workingday on each date and plotting the count of workingdays vs non-working days\n",
    "a=df.groupby(df['datetime'].dt.date)['workingday'].mean().reset_index()\n",
    "sns.countplot(data=a,x=a['workingday'])"
   ]
  },
  {
   "cell_type": "markdown",
   "id": "79fbb694",
   "metadata": {},
   "source": [
    "### There were around 150 days of holidays across both years combining both weekends and holidays"
   ]
  },
  {
   "cell_type": "markdown",
   "id": "99d601e2",
   "metadata": {},
   "source": [
    "### 4. Weather"
   ]
  },
  {
   "cell_type": "code",
   "execution_count": 129,
   "id": "093b2998",
   "metadata": {},
   "outputs": [
    {
     "data": {
      "text/plain": [
       "<AxesSubplot:xlabel='weather', ylabel='Count'>"
      ]
     },
     "execution_count": 129,
     "metadata": {},
     "output_type": "execute_result"
    },
    {
     "data": {
      "image/png": "[encoded data removed]",
      "text/plain": [
       "<Figure size 432x288 with 1 Axes>"
      ]
     },
     "metadata": {
      "needs_background": "light"
     },
     "output_type": "display_data"
    }
   ],
   "source": [
    "# Determining average weather for each date and plotting the count in bins\n",
    "a=df.groupby(df['datetime'].dt.date)['weather'].mean().reset_index()\n",
    "sns.histplot(data=a,x=a['weather'],bins=4)"
   ]
  },
  {
   "cell_type": "markdown",
   "id": "3a30a1fb",
   "metadata": {},
   "source": [
    "### Most days across the years saw clear weather with a very few days having extreme conditions of snow or heavy rain"
   ]
  },
  {
   "cell_type": "markdown",
   "id": "f7c8b13d",
   "metadata": {},
   "source": [
    "### 5. Temperature"
   ]
  },
  {
   "cell_type": "code",
   "execution_count": 130,
   "id": "c6280b5b",
   "metadata": {},
   "outputs": [
    {
     "data": {
      "text/plain": [
       "<AxesSubplot:xlabel='temp'>"
      ]
     },
     "execution_count": 130,
     "metadata": {},
     "output_type": "execute_result"
    },
    {
     "data": {
      "image/png": "[encoded data removed]",
      "text/plain": [
       "<Figure size 432x288 with 1 Axes>"
      ]
     },
     "metadata": {
      "needs_background": "light"
     },
     "output_type": "display_data"
    }
   ],
   "source": [
    "# Determining average temperature across dates\n",
    "sns.boxplot(data=df,x=df['temp'])"
   ]
  },
  {
   "cell_type": "markdown",
   "id": "2b6caa1b",
   "metadata": {},
   "source": [
    "### Median temperature is around 20 degree Celsius with no outliers observed"
   ]
  },
  {
   "cell_type": "markdown",
   "id": "9d100b3f",
   "metadata": {},
   "source": [
    "### 6. Count"
   ]
  },
  {
   "cell_type": "code",
   "execution_count": 131,
   "id": "8d813d3a",
   "metadata": {},
   "outputs": [
    {
     "data": {
      "text/plain": [
       "<AxesSubplot:xlabel='count'>"
      ]
     },
     "execution_count": 131,
     "metadata": {},
     "output_type": "execute_result"
    },
    {
     "data": {
      "image/png": "[encoded data removed]",
      "text/plain": [
       "<Figure size 432x288 with 1 Axes>"
      ]
     },
     "metadata": {
      "needs_background": "light"
     },
     "output_type": "display_data"
    }
   ],
   "source": [
    "sns.boxplot(data=df,x=df['count'])"
   ]
  },
  {
   "cell_type": "markdown",
   "id": "6a0e8979",
   "metadata": {},
   "source": [
    "### The median count of rental bike users is around 190 with a significant number of outliers observed"
   ]
  },
  {
   "cell_type": "markdown",
   "id": "82df7a81",
   "metadata": {},
   "source": [
    "### 1.4. Bivariate Analysis"
   ]
  },
  {
   "cell_type": "markdown",
   "id": "8087b714",
   "metadata": {},
   "source": [
    "### 1. Datetime vs Count"
   ]
  },
  {
   "cell_type": "code",
   "execution_count": 132,
   "id": "bdcf17ee",
   "metadata": {},
   "outputs": [
    {
     "data": {
      "text/plain": [
       "<AxesSubplot:xlabel='datetime', ylabel='count'>"
      ]
     },
     "execution_count": 132,
     "metadata": {},
     "output_type": "execute_result"
    },
    {
     "data": {
      "image/png": "[encoded data removed]",
      "text/plain": [
       "<Figure size 432x288 with 1 Axes>"
      ]
     },
     "metadata": {
      "needs_background": "light"
     },
     "output_type": "display_data"
    }
   ],
   "source": [
    "# Plot of number of users across years\n",
    "a=df.groupby(df['datetime'].dt.year)['count'].sum().reset_index()\n",
    "sns.barplot(x='datetime',y='count',data=a)"
   ]
  },
  {
   "cell_type": "code",
   "execution_count": 133,
   "id": "1e0760f8",
   "metadata": {},
   "outputs": [
    {
     "data": {
      "text/plain": [
       "<AxesSubplot:xlabel='datetime', ylabel='count'>"
      ]
     },
     "execution_count": 133,
     "metadata": {},
     "output_type": "execute_result"
    },
    {
     "data": {
      "image/png": "[encoded data removed]",
      "text/plain": [
       "<Figure size 432x288 with 1 Axes>"
      ]
     },
     "metadata": {
      "needs_background": "light"
     },
     "output_type": "display_data"
    }
   ],
   "source": [
    "# Plot of number of users across months for 2011\n",
    "a=df[df['datetime'].dt.year==2011]\n",
    "a=a.groupby(df['datetime'].dt.month)['count'].sum().reset_index()\n",
    "sns.barplot(x='datetime',y='count',data=a)"
   ]
  },
  {
   "cell_type": "code",
   "execution_count": 134,
   "id": "54755c33",
   "metadata": {},
   "outputs": [
    {
     "data": {
      "text/plain": [
       "<AxesSubplot:xlabel='datetime', ylabel='count'>"
      ]
     },
     "execution_count": 134,
     "metadata": {},
     "output_type": "execute_result"
    },
    {
     "data": {
      "image/png": "[encoded data removed]",
      "text/plain": [
       "<Figure size 432x288 with 1 Axes>"
      ]
     },
     "metadata": {
      "needs_background": "light"
     },
     "output_type": "display_data"
    }
   ],
   "source": [
    "# Plot of number of users across months for 2012\n",
    "a=df[df['datetime'].dt.year==2012]\n",
    "a=a.groupby(df['datetime'].dt.month)['count'].sum().reset_index()\n",
    "sns.barplot(x='datetime',y='count',data=a)"
   ]
  },
  {
   "cell_type": "markdown",
   "id": "e375f4ab",
   "metadata": {},
   "source": [
    "### The number of users increased significantly from 2011 to 2012\n",
    "### From the analysis across months, it can be observed the number fo users is lowest in the months of January, February and March. There is an increase seen after that with the months from May to October and again a dip in November and December"
   ]
  },
  {
   "cell_type": "markdown",
   "id": "36228da1",
   "metadata": {},
   "source": [
    "### 2. Season vs Count"
   ]
  },
  {
   "cell_type": "code",
   "execution_count": 189,
   "id": "0ca8260d",
   "metadata": {},
   "outputs": [
    {
     "data": {
      "text/plain": [
       "<AxesSubplot:xlabel='season', ylabel='count'>"
      ]
     },
     "execution_count": 189,
     "metadata": {},
     "output_type": "execute_result"
    },
    {
     "data": {
      "image/png": "[encoded data removed]",
      "text/plain": [
       "<Figure size 432x288 with 1 Axes>"
      ]
     },
     "metadata": {
      "needs_background": "light"
     },
     "output_type": "display_data"
    }
   ],
   "source": [
    "# Sum of users across Seasons\n",
    "sns.barplot(data=df,x=df['season'],y=df['count'])"
   ]
  },
  {
   "cell_type": "code",
   "execution_count": 190,
   "id": "d8fa2a76",
   "metadata": {},
   "outputs": [
    {
     "data": {
      "text/plain": [
       "<AxesSubplot:xlabel='season', ylabel='count'>"
      ]
     },
     "execution_count": 190,
     "metadata": {},
     "output_type": "execute_result"
    },
    {
     "data": {
      "image/png": "[encoded data removed]",
      "text/plain": [
       "<Figure size 432x288 with 1 Axes>"
      ]
     },
     "metadata": {
      "needs_background": "light"
     },
     "output_type": "display_data"
    }
   ],
   "source": [
    "# Plot across the years\n",
    "sns.barplot(data=df,x=df['season'],y=df['count'],hue=df['datetime'].dt.year)"
   ]
  },
  {
   "cell_type": "markdown",
   "id": "491850b5",
   "metadata": {},
   "source": [
    "### They had more users renting bikes during Summer and Fall with Spring being the least popular among users. The pattern is consistent across both years"
   ]
  },
  {
   "cell_type": "markdown",
   "id": "4a6729e5",
   "metadata": {},
   "source": [
    "### 3. Holiday vs Count"
   ]
  },
  {
   "cell_type": "code",
   "execution_count": 157,
   "id": "a0a2c6d9",
   "metadata": {},
   "outputs": [
    {
     "data": {
      "text/plain": [
       "<AxesSubplot:xlabel='holiday', ylabel='count'>"
      ]
     },
     "execution_count": 157,
     "metadata": {},
     "output_type": "execute_result"
    },
    {
     "data": {
      "image/png": "[encoded data removed]",
      "text/plain": [
       "<Figure size 432x288 with 1 Axes>"
      ]
     },
     "metadata": {
      "needs_background": "light"
     },
     "output_type": "display_data"
    }
   ],
   "source": [
    "# Average number of users on holidays\n",
    "sns.barplot(data=df,x=df['holiday'],y=df['count'])"
   ]
  },
  {
   "cell_type": "code",
   "execution_count": 158,
   "id": "8487d06f",
   "metadata": {},
   "outputs": [
    {
     "data": {
      "text/plain": [
       "<AxesSubplot:xlabel='holiday', ylabel='count'>"
      ]
     },
     "execution_count": 158,
     "metadata": {},
     "output_type": "execute_result"
    },
    {
     "data": {
      "image/png": "[encoded data removed]",
      "text/plain": [
       "<Figure size 432x288 with 1 Axes>"
      ]
     },
     "metadata": {
      "needs_background": "light"
     },
     "output_type": "display_data"
    }
   ],
   "source": [
    "# Plot across years\n",
    "sns.barplot(data=df,x=df['holiday'],y=df['count'],hue=df['datetime'].dt.year)"
   ]
  },
  {
   "cell_type": "markdown",
   "id": "7b9d787f",
   "metadata": {},
   "source": [
    "### The average number of users on holidays is almost equal to that on other days. Hence users are leveraging the services equally on both holidays and non-holidays. The pattern is consistent across years."
   ]
  },
  {
   "cell_type": "markdown",
   "id": "e4a86edc",
   "metadata": {},
   "source": [
    "### 4. Workingday vs Count"
   ]
  },
  {
   "cell_type": "code",
   "execution_count": 161,
   "id": "08da23f6",
   "metadata": {},
   "outputs": [
    {
     "data": {
      "text/plain": [
       "<AxesSubplot:xlabel='workingday', ylabel='count'>"
      ]
     },
     "execution_count": 161,
     "metadata": {},
     "output_type": "execute_result"
    },
    {
     "data": {
      "image/png": "[encoded data removed]",
      "text/plain": [
       "<Figure size 432x288 with 1 Axes>"
      ]
     },
     "metadata": {
      "needs_background": "light"
     },
     "output_type": "display_data"
    }
   ],
   "source": [
    "# Average number of users on workingdays and non-working days\n",
    "sns.barplot(data=df,x=df['workingday'],y=df['count'])"
   ]
  },
  {
   "cell_type": "code",
   "execution_count": 170,
   "id": "7a2d051f",
   "metadata": {},
   "outputs": [
    {
     "data": {
      "text/plain": [
       "<AxesSubplot:xlabel='workingday', ylabel='count'>"
      ]
     },
     "execution_count": 170,
     "metadata": {},
     "output_type": "execute_result"
    },
    {
     "data": {
      "image/png": "[encoded data removed]",
      "text/plain": [
       "<Figure size 432x288 with 1 Axes>"
      ]
     },
     "metadata": {
      "needs_background": "light"
     },
     "output_type": "display_data"
    }
   ],
   "source": [
    "# Plot across years\n",
    "sns.barplot(data=df,x=df['workingday'],y=df['count'],hue=df['datetime'].dt.year)"
   ]
  },
  {
   "cell_type": "markdown",
   "id": "84a90719",
   "metadata": {},
   "source": [
    "### The  average number of users on non working days is almost equal to that on working days. Hence the demand for the bikes seems to be equal on both working and non-working days. The pattern is consistent across years."
   ]
  },
  {
   "cell_type": "markdown",
   "id": "7c2b117a",
   "metadata": {},
   "source": [
    "### 5. Weather vs Count"
   ]
  },
  {
   "cell_type": "code",
   "execution_count": 174,
   "id": "869640b1",
   "metadata": {},
   "outputs": [
    {
     "data": {
      "text/plain": [
       "<AxesSubplot:xlabel='weather', ylabel='count'>"
      ]
     },
     "execution_count": 174,
     "metadata": {},
     "output_type": "execute_result"
    },
    {
     "data": {
      "image/png": "[encoded data removed]",
      "text/plain": [
       "<Figure size 432x288 with 1 Axes>"
      ]
     },
     "metadata": {
      "needs_background": "light"
     },
     "output_type": "display_data"
    }
   ],
   "source": [
    "# Plot of average number of users in different weather conditions\n",
    "sns.barplot(data=df,x=df['weather'],y=df['count'])"
   ]
  },
  {
   "cell_type": "code",
   "execution_count": 263,
   "id": "4ce6c204",
   "metadata": {},
   "outputs": [
    {
     "data": {
      "text/plain": [
       "<AxesSubplot:xlabel='weather', ylabel='count'>"
      ]
     },
     "execution_count": 263,
     "metadata": {},
     "output_type": "execute_result"
    },
    {
     "data": {
      "image/png": "[encoded data removed]",
      "text/plain": [
       "<Figure size 432x288 with 1 Axes>"
      ]
     },
     "metadata": {
      "needs_background": "light"
     },
     "output_type": "display_data"
    }
   ],
   "source": [
    "# Plot the patterns across years\n",
    "sns.barplot(data=df,x=df['weather'],y=df['count'],hue=df['datetime'].dt.year)"
   ]
  },
  {
   "cell_type": "markdown",
   "id": "4237e2b7",
   "metadata": {},
   "source": [
    "### The most number of bikes rented were during clear weather followed by mist + cloudy weather. The times of days with snow and heavy rain also saw an average above 100, however the number of days with snow and rain are very less to make definite conclusions"
   ]
  },
  {
   "cell_type": "markdown",
   "id": "9df52562",
   "metadata": {},
   "source": [
    "### 6. Temperature, Humidity and Windspeed vs Count"
   ]
  },
  {
   "cell_type": "code",
   "execution_count": 178,
   "id": "90b155bf",
   "metadata": {},
   "outputs": [
    {
     "data": {
      "text/plain": [
       "<AxesSubplot:>"
      ]
     },
     "execution_count": 178,
     "metadata": {},
     "output_type": "execute_result"
    },
    {
     "data": {
      "image/png": "[encoded data removed]",
      "text/plain": [
       "<Figure size 720x720 with 2 Axes>"
      ]
     },
     "metadata": {
      "needs_background": "light"
     },
     "output_type": "display_data"
    }
   ],
   "source": [
    "plt.subplots(figsize=(10,10))\n",
    "sns.heatmap(df.corr(),annot=True)"
   ]
  },
  {
   "cell_type": "markdown",
   "id": "e1f0a1f4",
   "metadata": {},
   "source": [
    "### We can observe that there is a weak positive correlation between temperature, feeling temperature and the count of users. \n",
    "### There is a weak negative correlation between humidity and count of users. \n",
    "### At a high level, count of users is more at higher temperatures and lower when humidity increases."
   ]
  },
  {
   "cell_type": "markdown",
   "id": "bfc340eb",
   "metadata": {},
   "source": [
    "### 1.5 Insights based on EDA"
   ]
  },
  {
   "cell_type": "markdown",
   "id": "f483f020",
   "metadata": {},
   "source": [
    "#### 1.\tBoth the years combined, saw an equal number of days across seasons of spring, summer, fall and winter\n",
    "#### 2.\tThe number of public holidays across both the years were around 13\n",
    "#### 3.\tThere were around 150 days of holidays across both years combining both weekends and holidays\n",
    "#### 4.\tMost days across the years saw clear weather with a very few days having extreme conditions of snow or heavy rain\n",
    "#### 5.\tMedian temperature is around 20 degree Celsius with no outliers observed\n",
    "#### 6.\tThe median count of rental bike users is around 190 with a significant number of outliers observed\n",
    "#### 7.\tThe number of users increased significantly from 2011 to 2012\n",
    "#### 8.\tFrom the analysis across months, it can be observed the number fo users is lowest in the months of January, February and March. There is an increase seen after that with the months from May to October and again a dip in November and December\n",
    "#### 9.\tThey had more users renting bikes during Summer and Fall with Spring being the least popular among users. The pattern is consistent across both years\n",
    "#### 10.\tEven though the total number of users on holidays is less owing to less number of holidays, the average number of users is almost equal to that on other days. Hence users are leveraging the services equally on both holidays and non-holidays. The pattern is consistent across years.\n",
    "#### 11.\tThe total number of users on weekends and holidays combined is less owing to less number of holidays. However, the average number of users on non working days is almost equal to that on working days. Hence the demand  seems to be equal on both working and non-working days. The pattern is consistent across years.\n",
    "#### 12.\tThe most number of bikes rented were during clear weather followed by mist + cloudy weather. The times of days with snow and heavy rain also saw an average above 100, however the number of days with snow and rain are very less to make definite conclusions\n",
    "#### 13.\tWe can observe that there is a weak positive correlation between temperature, feeling temperature and the count of users.\n",
    "#### 14.\tThere is a weak negative correlation between humidity and count of users.\n",
    "#### 15.\tAt a high level, count of users is more at higher temperatures and lower when humidity increases."
   ]
  },
  {
   "cell_type": "markdown",
   "id": "b910a4d0",
   "metadata": {},
   "source": [
    "### 2. Hypothesis testing"
   ]
  },
  {
   "cell_type": "markdown",
   "id": "94305018",
   "metadata": {},
   "source": [
    "### 2.1 Checking if Working Days has an effect on the number of electric cycles rented"
   ]
  },
  {
   "cell_type": "code",
   "execution_count": 180,
   "id": "ae00e168",
   "metadata": {},
   "outputs": [
    {
     "data": {
      "text/plain": [
       "<AxesSubplot:xlabel='workingday', ylabel='count'>"
      ]
     },
     "execution_count": 180,
     "metadata": {},
     "output_type": "execute_result"
    },
    {
     "data": {
      "image/png": "[encoded data removed]",
      "text/plain": [
       "<Figure size 432x288 with 1 Axes>"
      ]
     },
     "metadata": {
      "needs_background": "light"
     },
     "output_type": "display_data"
    }
   ],
   "source": [
    "# 1. Visual Analysis\n",
    "sns.barplot(data=df,x=df['workingday'],y=df['count'])"
   ]
  },
  {
   "cell_type": "markdown",
   "id": "40e22084",
   "metadata": {},
   "source": [
    "### The average number of users is almost equal on both working and non working days"
   ]
  },
  {
   "cell_type": "markdown",
   "id": "806f864e",
   "metadata": {},
   "source": [
    "#### 2. Hypothesis Formulation\n",
    "#### H0 : Working Days has no effect on the number of electric cycles rented\n",
    "#### Ha : Working days has an effect on the number of electric cycles rented"
   ]
  },
  {
   "cell_type": "markdown",
   "id": "bb092b62",
   "metadata": {},
   "source": [
    "#### 3. Select the appropriate test\n",
    "#### We are comparing a categorical variable(Working day) against a continous variable(count) and we have sample data\n",
    "#### So we will be using the 2 sample T-Test in this case"
   ]
  },
  {
   "cell_type": "markdown",
   "id": "c82e4c2a",
   "metadata": {},
   "source": [
    "#### 4. Check Test assumptions\n",
    "####   1. Data values are independent - True for this dataset\n",
    "####   2. Data is obtained from a random sample in the population - True for this dataset\n",
    "####   3. Data values are continous - Count value is continous"
   ]
  },
  {
   "cell_type": "code",
   "execution_count": 213,
   "id": "0145ce83",
   "metadata": {},
   "outputs": [
    {
     "data": {
      "text/plain": [
       "<AxesSubplot:xlabel='count', ylabel='Count'>"
      ]
     },
     "execution_count": 213,
     "metadata": {},
     "output_type": "execute_result"
    },
    {
     "data": {
      "image/png": "[encoded data removed]",
      "text/plain": [
       "<Figure size 432x288 with 1 Axes>"
      ]
     },
     "metadata": {
      "needs_background": "light"
     },
     "output_type": "display_data"
    }
   ],
   "source": [
    "# Check Test Assumptions\n",
    "# 4. Data is normally distributed\n",
    "a=df[df['workingday']==1]\n",
    "b=df[df['workingday']==0]\n",
    "sns.histplot(a['count'],bins=30)"
   ]
  },
  {
   "cell_type": "code",
   "execution_count": 214,
   "id": "10489971",
   "metadata": {},
   "outputs": [
    {
     "data": {
      "text/plain": [
       "<AxesSubplot:xlabel='count', ylabel='Count'>"
      ]
     },
     "execution_count": 214,
     "metadata": {},
     "output_type": "execute_result"
    },
    {
     "data": {
      "image/png": "[encoded data removed]",
      "text/plain": [
       "<Figure size 432x288 with 1 Axes>"
      ]
     },
     "metadata": {
      "needs_background": "light"
     },
     "output_type": "display_data"
    }
   ],
   "source": [
    "sns.histplot(b['count'],bins=30)"
   ]
  },
  {
   "cell_type": "markdown",
   "id": "7015658f",
   "metadata": {},
   "source": [
    "#### The data does not seem bell shaped, so the assumption does not hold true"
   ]
  },
  {
   "cell_type": "code",
   "execution_count": 183,
   "id": "e20ea229",
   "metadata": {},
   "outputs": [
    {
     "data": {
      "text/html": [
       "<div>\n",
       "<style scoped>\n",
       "    .dataframe tbody tr th:only-of-type {\n",
       "        vertical-align: middle;\n",
       "    }\n",
       "\n",
       "    .dataframe tbody tr th {\n",
       "        vertical-align: top;\n",
       "    }\n",
       "\n",
       "    .dataframe thead th {\n",
       "        text-align: right;\n",
       "    }\n",
       "</style>\n",
       "<table border=\"1\" class=\"dataframe\">\n",
       "  <thead>\n",
       "    <tr style=\"text-align: right;\">\n",
       "      <th></th>\n",
       "      <th>season</th>\n",
       "      <th>holiday</th>\n",
       "      <th>workingday</th>\n",
       "      <th>weather</th>\n",
       "      <th>temp</th>\n",
       "      <th>atemp</th>\n",
       "      <th>humidity</th>\n",
       "      <th>windspeed</th>\n",
       "      <th>casual</th>\n",
       "      <th>registered</th>\n",
       "      <th>count</th>\n",
       "    </tr>\n",
       "  </thead>\n",
       "  <tbody>\n",
       "    <tr>\n",
       "      <th>count</th>\n",
       "      <td>7412.000000</td>\n",
       "      <td>7412.0</td>\n",
       "      <td>7412.0</td>\n",
       "      <td>7412.000000</td>\n",
       "      <td>7412.000000</td>\n",
       "      <td>7412.000000</td>\n",
       "      <td>7412.000000</td>\n",
       "      <td>7412.000000</td>\n",
       "      <td>7412.000000</td>\n",
       "      <td>7412.000000</td>\n",
       "      <td>7412.000000</td>\n",
       "    </tr>\n",
       "    <tr>\n",
       "      <th>mean</th>\n",
       "      <td>2.500405</td>\n",
       "      <td>0.0</td>\n",
       "      <td>1.0</td>\n",
       "      <td>1.433081</td>\n",
       "      <td>20.390696</td>\n",
       "      <td>23.798153</td>\n",
       "      <td>61.743119</td>\n",
       "      <td>12.874143</td>\n",
       "      <td>25.107663</td>\n",
       "      <td>167.904209</td>\n",
       "      <td>193.011873</td>\n",
       "    </tr>\n",
       "    <tr>\n",
       "      <th>std</th>\n",
       "      <td>1.114241</td>\n",
       "      <td>0.0</td>\n",
       "      <td>0.0</td>\n",
       "      <td>0.646322</td>\n",
       "      <td>7.754755</td>\n",
       "      <td>8.410190</td>\n",
       "      <td>19.274729</td>\n",
       "      <td>8.172040</td>\n",
       "      <td>28.601591</td>\n",
       "      <td>165.817966</td>\n",
       "      <td>184.513659</td>\n",
       "    </tr>\n",
       "    <tr>\n",
       "      <th>min</th>\n",
       "      <td>1.000000</td>\n",
       "      <td>0.0</td>\n",
       "      <td>1.0</td>\n",
       "      <td>1.000000</td>\n",
       "      <td>0.820000</td>\n",
       "      <td>0.760000</td>\n",
       "      <td>0.000000</td>\n",
       "      <td>0.000000</td>\n",
       "      <td>0.000000</td>\n",
       "      <td>0.000000</td>\n",
       "      <td>1.000000</td>\n",
       "    </tr>\n",
       "    <tr>\n",
       "      <th>25%</th>\n",
       "      <td>2.000000</td>\n",
       "      <td>0.0</td>\n",
       "      <td>1.0</td>\n",
       "      <td>1.000000</td>\n",
       "      <td>13.940000</td>\n",
       "      <td>16.665000</td>\n",
       "      <td>47.000000</td>\n",
       "      <td>7.001500</td>\n",
       "      <td>3.000000</td>\n",
       "      <td>36.000000</td>\n",
       "      <td>41.000000</td>\n",
       "    </tr>\n",
       "    <tr>\n",
       "      <th>50%</th>\n",
       "      <td>2.000000</td>\n",
       "      <td>0.0</td>\n",
       "      <td>1.0</td>\n",
       "      <td>1.000000</td>\n",
       "      <td>20.500000</td>\n",
       "      <td>24.240000</td>\n",
       "      <td>61.000000</td>\n",
       "      <td>12.998000</td>\n",
       "      <td>14.000000</td>\n",
       "      <td>127.000000</td>\n",
       "      <td>151.000000</td>\n",
       "    </tr>\n",
       "    <tr>\n",
       "      <th>75%</th>\n",
       "      <td>3.000000</td>\n",
       "      <td>0.0</td>\n",
       "      <td>1.0</td>\n",
       "      <td>2.000000</td>\n",
       "      <td>26.240000</td>\n",
       "      <td>31.060000</td>\n",
       "      <td>77.000000</td>\n",
       "      <td>16.997900</td>\n",
       "      <td>39.000000</td>\n",
       "      <td>233.000000</td>\n",
       "      <td>277.000000</td>\n",
       "    </tr>\n",
       "    <tr>\n",
       "      <th>max</th>\n",
       "      <td>4.000000</td>\n",
       "      <td>0.0</td>\n",
       "      <td>1.0</td>\n",
       "      <td>4.000000</td>\n",
       "      <td>38.540000</td>\n",
       "      <td>43.940000</td>\n",
       "      <td>100.000000</td>\n",
       "      <td>51.998700</td>\n",
       "      <td>240.000000</td>\n",
       "      <td>886.000000</td>\n",
       "      <td>977.000000</td>\n",
       "    </tr>\n",
       "  </tbody>\n",
       "</table>\n",
       "</div>"
      ],
      "text/plain": [
       "            season  holiday  workingday      weather         temp  \\\n",
       "count  7412.000000   7412.0      7412.0  7412.000000  7412.000000   \n",
       "mean      2.500405      0.0         1.0     1.433081    20.390696   \n",
       "std       1.114241      0.0         0.0     0.646322     7.754755   \n",
       "min       1.000000      0.0         1.0     1.000000     0.820000   \n",
       "25%       2.000000      0.0         1.0     1.000000    13.940000   \n",
       "50%       2.000000      0.0         1.0     1.000000    20.500000   \n",
       "75%       3.000000      0.0         1.0     2.000000    26.240000   \n",
       "max       4.000000      0.0         1.0     4.000000    38.540000   \n",
       "\n",
       "             atemp     humidity    windspeed       casual   registered  \\\n",
       "count  7412.000000  7412.000000  7412.000000  7412.000000  7412.000000   \n",
       "mean     23.798153    61.743119    12.874143    25.107663   167.904209   \n",
       "std       8.410190    19.274729     8.172040    28.601591   165.817966   \n",
       "min       0.760000     0.000000     0.000000     0.000000     0.000000   \n",
       "25%      16.665000    47.000000     7.001500     3.000000    36.000000   \n",
       "50%      24.240000    61.000000    12.998000    14.000000   127.000000   \n",
       "75%      31.060000    77.000000    16.997900    39.000000   233.000000   \n",
       "max      43.940000   100.000000    51.998700   240.000000   886.000000   \n",
       "\n",
       "             count  \n",
       "count  7412.000000  \n",
       "mean    193.011873  \n",
       "std     184.513659  \n",
       "min       1.000000  \n",
       "25%      41.000000  \n",
       "50%     151.000000  \n",
       "75%     277.000000  \n",
       "max     977.000000  "
      ]
     },
     "execution_count": 183,
     "metadata": {},
     "output_type": "execute_result"
    }
   ],
   "source": [
    "# 4. Check Test Assumptions\n",
    "# 5. Variances for 2 independent groups are equal\n",
    "a.describe()"
   ]
  },
  {
   "cell_type": "code",
   "execution_count": 184,
   "id": "7c08a145",
   "metadata": {},
   "outputs": [
    {
     "data": {
      "text/html": [
       "<div>\n",
       "<style scoped>\n",
       "    .dataframe tbody tr th:only-of-type {\n",
       "        vertical-align: middle;\n",
       "    }\n",
       "\n",
       "    .dataframe tbody tr th {\n",
       "        vertical-align: top;\n",
       "    }\n",
       "\n",
       "    .dataframe thead th {\n",
       "        text-align: right;\n",
       "    }\n",
       "</style>\n",
       "<table border=\"1\" class=\"dataframe\">\n",
       "  <thead>\n",
       "    <tr style=\"text-align: right;\">\n",
       "      <th></th>\n",
       "      <th>season</th>\n",
       "      <th>holiday</th>\n",
       "      <th>workingday</th>\n",
       "      <th>weather</th>\n",
       "      <th>temp</th>\n",
       "      <th>atemp</th>\n",
       "      <th>humidity</th>\n",
       "      <th>windspeed</th>\n",
       "      <th>casual</th>\n",
       "      <th>registered</th>\n",
       "      <th>count</th>\n",
       "    </tr>\n",
       "  </thead>\n",
       "  <tbody>\n",
       "    <tr>\n",
       "      <th>count</th>\n",
       "      <td>3474.000000</td>\n",
       "      <td>3474.000000</td>\n",
       "      <td>3474.0</td>\n",
       "      <td>3474.000000</td>\n",
       "      <td>3474.000000</td>\n",
       "      <td>3474.000000</td>\n",
       "      <td>3474.000000</td>\n",
       "      <td>3474.000000</td>\n",
       "      <td>3474.000000</td>\n",
       "      <td>3474.00000</td>\n",
       "      <td>3474.000000</td>\n",
       "    </tr>\n",
       "    <tr>\n",
       "      <th>mean</th>\n",
       "      <td>2.519862</td>\n",
       "      <td>0.089522</td>\n",
       "      <td>0.0</td>\n",
       "      <td>1.387162</td>\n",
       "      <td>19.889839</td>\n",
       "      <td>23.349837</td>\n",
       "      <td>62.192286</td>\n",
       "      <td>12.639916</td>\n",
       "      <td>59.308290</td>\n",
       "      <td>129.19833</td>\n",
       "      <td>188.506621</td>\n",
       "    </tr>\n",
       "    <tr>\n",
       "      <th>std</th>\n",
       "      <td>1.120334</td>\n",
       "      <td>0.285537</td>\n",
       "      <td>0.0</td>\n",
       "      <td>0.605253</td>\n",
       "      <td>7.859863</td>\n",
       "      <td>8.603684</td>\n",
       "      <td>19.180711</td>\n",
       "      <td>8.147390</td>\n",
       "      <td>72.669078</td>\n",
       "      <td>108.65734</td>\n",
       "      <td>173.724015</td>\n",
       "    </tr>\n",
       "    <tr>\n",
       "      <th>min</th>\n",
       "      <td>1.000000</td>\n",
       "      <td>0.000000</td>\n",
       "      <td>0.0</td>\n",
       "      <td>1.000000</td>\n",
       "      <td>3.280000</td>\n",
       "      <td>2.275000</td>\n",
       "      <td>12.000000</td>\n",
       "      <td>0.000000</td>\n",
       "      <td>0.000000</td>\n",
       "      <td>0.00000</td>\n",
       "      <td>1.000000</td>\n",
       "    </tr>\n",
       "    <tr>\n",
       "      <th>25%</th>\n",
       "      <td>2.000000</td>\n",
       "      <td>0.000000</td>\n",
       "      <td>0.0</td>\n",
       "      <td>1.000000</td>\n",
       "      <td>13.940000</td>\n",
       "      <td>16.665000</td>\n",
       "      <td>47.000000</td>\n",
       "      <td>7.001500</td>\n",
       "      <td>6.000000</td>\n",
       "      <td>36.00000</td>\n",
       "      <td>44.000000</td>\n",
       "    </tr>\n",
       "    <tr>\n",
       "      <th>50%</th>\n",
       "      <td>3.000000</td>\n",
       "      <td>0.000000</td>\n",
       "      <td>0.0</td>\n",
       "      <td>1.000000</td>\n",
       "      <td>18.860000</td>\n",
       "      <td>22.725000</td>\n",
       "      <td>62.000000</td>\n",
       "      <td>11.001400</td>\n",
       "      <td>25.000000</td>\n",
       "      <td>99.00000</td>\n",
       "      <td>128.000000</td>\n",
       "    </tr>\n",
       "    <tr>\n",
       "      <th>75%</th>\n",
       "      <td>4.000000</td>\n",
       "      <td>0.000000</td>\n",
       "      <td>0.0</td>\n",
       "      <td>2.000000</td>\n",
       "      <td>26.240000</td>\n",
       "      <td>31.060000</td>\n",
       "      <td>78.000000</td>\n",
       "      <td>16.997900</td>\n",
       "      <td>90.000000</td>\n",
       "      <td>207.00000</td>\n",
       "      <td>304.000000</td>\n",
       "    </tr>\n",
       "    <tr>\n",
       "      <th>max</th>\n",
       "      <td>4.000000</td>\n",
       "      <td>1.000000</td>\n",
       "      <td>0.0</td>\n",
       "      <td>3.000000</td>\n",
       "      <td>41.000000</td>\n",
       "      <td>45.455000</td>\n",
       "      <td>100.000000</td>\n",
       "      <td>56.996900</td>\n",
       "      <td>367.000000</td>\n",
       "      <td>601.00000</td>\n",
       "      <td>783.000000</td>\n",
       "    </tr>\n",
       "  </tbody>\n",
       "</table>\n",
       "</div>"
      ],
      "text/plain": [
       "            season      holiday  workingday      weather         temp  \\\n",
       "count  3474.000000  3474.000000      3474.0  3474.000000  3474.000000   \n",
       "mean      2.519862     0.089522         0.0     1.387162    19.889839   \n",
       "std       1.120334     0.285537         0.0     0.605253     7.859863   \n",
       "min       1.000000     0.000000         0.0     1.000000     3.280000   \n",
       "25%       2.000000     0.000000         0.0     1.000000    13.940000   \n",
       "50%       3.000000     0.000000         0.0     1.000000    18.860000   \n",
       "75%       4.000000     0.000000         0.0     2.000000    26.240000   \n",
       "max       4.000000     1.000000         0.0     3.000000    41.000000   \n",
       "\n",
       "             atemp     humidity    windspeed       casual  registered  \\\n",
       "count  3474.000000  3474.000000  3474.000000  3474.000000  3474.00000   \n",
       "mean     23.349837    62.192286    12.639916    59.308290   129.19833   \n",
       "std       8.603684    19.180711     8.147390    72.669078   108.65734   \n",
       "min       2.275000    12.000000     0.000000     0.000000     0.00000   \n",
       "25%      16.665000    47.000000     7.001500     6.000000    36.00000   \n",
       "50%      22.725000    62.000000    11.001400    25.000000    99.00000   \n",
       "75%      31.060000    78.000000    16.997900    90.000000   207.00000   \n",
       "max      45.455000   100.000000    56.996900   367.000000   601.00000   \n",
       "\n",
       "             count  \n",
       "count  3474.000000  \n",
       "mean    188.506621  \n",
       "std     173.724015  \n",
       "min       1.000000  \n",
       "25%      44.000000  \n",
       "50%     128.000000  \n",
       "75%     304.000000  \n",
       "max     783.000000  "
      ]
     },
     "execution_count": 184,
     "metadata": {},
     "output_type": "execute_result"
    }
   ],
   "source": [
    "b.describe()"
   ]
  },
  {
   "cell_type": "markdown",
   "id": "4185548c",
   "metadata": {},
   "source": [
    "#### The standard deviation of count is almost similar in both the groups and so equal variances can be assumed"
   ]
  },
  {
   "cell_type": "code",
   "execution_count": 185,
   "id": "dfdb5f96",
   "metadata": {},
   "outputs": [
    {
     "name": "stdout",
     "output_type": "stream",
     "text": [
      "1.2096277376026694\n",
      "0.22644804226361348\n"
     ]
    }
   ],
   "source": [
    "# 5. Finding p value at 95% confidence with a significance value of 0.05\n",
    "t_stat,p_value=ttest_ind(a['count'],b['count'])\n",
    "print(t_stat)\n",
    "print(p_value)"
   ]
  },
  {
   "cell_type": "code",
   "execution_count": 187,
   "id": "9827146d",
   "metadata": {},
   "outputs": [
    {
     "name": "stdout",
     "output_type": "stream",
     "text": [
      "Fail to reject H0\n"
     ]
    }
   ],
   "source": [
    "# 6. Conclusion based on the p value\n",
    "alpha=0.05\n",
    "if p_value< alpha:\n",
    "    print('Reject H0')\n",
    "else:\n",
    "    print('Fail to reject H0')"
   ]
  },
  {
   "cell_type": "markdown",
   "id": "c1161c30",
   "metadata": {},
   "source": [
    "### Based on the 2 sample T-Test, we fail to reject the null hypothesis. So we can confirm that working days has no effect on the number of electric cycles rented as is seen in the visual analysis also."
   ]
  },
  {
   "cell_type": "markdown",
   "id": "e7322358",
   "metadata": {},
   "source": [
    "### 2.2 Checking if weather has an effect on the number of electric cycles rented"
   ]
  },
  {
   "cell_type": "code",
   "execution_count": 188,
   "id": "3e0e7ae4",
   "metadata": {},
   "outputs": [
    {
     "data": {
      "text/plain": [
       "<AxesSubplot:xlabel='weather', ylabel='count'>"
      ]
     },
     "execution_count": 188,
     "metadata": {},
     "output_type": "execute_result"
    },
    {
     "data": {
      "image/png": "[encoded data removed]",
      "text/plain": [
       "<Figure size 432x288 with 1 Axes>"
      ]
     },
     "metadata": {
      "needs_background": "light"
     },
     "output_type": "display_data"
    }
   ],
   "source": [
    "# 1. Visual Analysis\n",
    "sns.barplot(data=df,x=df['weather'],y=df['count'])"
   ]
  },
  {
   "cell_type": "markdown",
   "id": "c7e060bb",
   "metadata": {},
   "source": [
    "### The number of cycles rented is more during clear weather followed by misty + cloudy weather. It was least during light snowfall. "
   ]
  },
  {
   "cell_type": "markdown",
   "id": "b76d2597",
   "metadata": {},
   "source": [
    "#### 2. Hypothesis Formulation\n",
    "#### H0 : Weather has no effect on the number of electric cycles rented\n",
    "#### Ha : Weather has an effect on the number of electric cycles rented"
   ]
  },
  {
   "cell_type": "markdown",
   "id": "ad9d8c8e",
   "metadata": {},
   "source": [
    "#### 3. Select the appropriate test\n",
    "#### We are comparing a categorical variable(Weather) with more than 2 features against a continous variable(count) \n",
    "#### So we will be using the ANOVA test in this case"
   ]
  },
  {
   "cell_type": "markdown",
   "id": "e9c8c342",
   "metadata": {},
   "source": [
    "#### 4. Check Test assumptions\n",
    "####   1. Data values are independent - True for this dataset"
   ]
  },
  {
   "cell_type": "code",
   "execution_count": 212,
   "id": "cb4eeb47",
   "metadata": {},
   "outputs": [
    {
     "data": {
      "text/plain": [
       "<AxesSubplot:xlabel='count', ylabel='Count'>"
      ]
     },
     "execution_count": 212,
     "metadata": {},
     "output_type": "execute_result"
    },
    {
     "data": {
      "image/png": "[encoded data removed]",
      "text/plain": [
       "<Figure size 432x288 with 1 Axes>"
      ]
     },
     "metadata": {
      "needs_background": "light"
     },
     "output_type": "display_data"
    }
   ],
   "source": [
    "# Check Test Assumptions\n",
    "# 2. Data is normally distributed (Category 4 of weather is being ignored since there is only 1 data point)\n",
    "a=df[df['weather']==1]\n",
    "b=df[df['weather']==2]\n",
    "c=df[df['weather']==3]\n",
    "sns.histplot(a['count'],bins=30)"
   ]
  },
  {
   "cell_type": "code",
   "execution_count": 215,
   "id": "21bee186",
   "metadata": {},
   "outputs": [
    {
     "data": {
      "text/plain": [
       "<AxesSubplot:xlabel='count', ylabel='Count'>"
      ]
     },
     "execution_count": 215,
     "metadata": {},
     "output_type": "execute_result"
    },
    {
     "data": {
      "image/png": "[encoded data removed]",
      "text/plain": [
       "<Figure size 432x288 with 1 Axes>"
      ]
     },
     "metadata": {
      "needs_background": "light"
     },
     "output_type": "display_data"
    }
   ],
   "source": [
    "sns.histplot(b['count'],bins=30)"
   ]
  },
  {
   "cell_type": "code",
   "execution_count": 216,
   "id": "033ecd11",
   "metadata": {},
   "outputs": [
    {
     "data": {
      "text/plain": [
       "<AxesSubplot:xlabel='count', ylabel='Count'>"
      ]
     },
     "execution_count": 216,
     "metadata": {},
     "output_type": "execute_result"
    },
    {
     "data": {
      "image/png": "[encoded data removed]",
      "text/plain": [
       "<Figure size 432x288 with 1 Axes>"
      ]
     },
     "metadata": {
      "needs_background": "light"
     },
     "output_type": "display_data"
    }
   ],
   "source": [
    "sns.histplot(c['count'],bins=30)"
   ]
  },
  {
   "cell_type": "markdown",
   "id": "35a3fcab",
   "metadata": {},
   "source": [
    "#### The data does not seem bell shaped, so the assumption does not hold true"
   ]
  },
  {
   "cell_type": "code",
   "execution_count": 200,
   "id": "4374e903",
   "metadata": {},
   "outputs": [
    {
     "data": {
      "text/html": [
       "<div>\n",
       "<style scoped>\n",
       "    .dataframe tbody tr th:only-of-type {\n",
       "        vertical-align: middle;\n",
       "    }\n",
       "\n",
       "    .dataframe tbody tr th {\n",
       "        vertical-align: top;\n",
       "    }\n",
       "\n",
       "    .dataframe thead th {\n",
       "        text-align: right;\n",
       "    }\n",
       "</style>\n",
       "<table border=\"1\" class=\"dataframe\">\n",
       "  <thead>\n",
       "    <tr style=\"text-align: right;\">\n",
       "      <th></th>\n",
       "      <th>season</th>\n",
       "      <th>holiday</th>\n",
       "      <th>workingday</th>\n",
       "      <th>weather</th>\n",
       "      <th>temp</th>\n",
       "      <th>atemp</th>\n",
       "      <th>humidity</th>\n",
       "      <th>windspeed</th>\n",
       "      <th>casual</th>\n",
       "      <th>registered</th>\n",
       "      <th>count</th>\n",
       "    </tr>\n",
       "  </thead>\n",
       "  <tbody>\n",
       "    <tr>\n",
       "      <th>count</th>\n",
       "      <td>7192.00000</td>\n",
       "      <td>7192.000000</td>\n",
       "      <td>7192.000000</td>\n",
       "      <td>7192.0</td>\n",
       "      <td>7192.000000</td>\n",
       "      <td>7192.000000</td>\n",
       "      <td>7192.000000</td>\n",
       "      <td>7192.000000</td>\n",
       "      <td>7192.000000</td>\n",
       "      <td>7192.000000</td>\n",
       "      <td>7192.000000</td>\n",
       "    </tr>\n",
       "    <tr>\n",
       "      <th>mean</th>\n",
       "      <td>2.49708</td>\n",
       "      <td>0.028365</td>\n",
       "      <td>0.672831</td>\n",
       "      <td>1.0</td>\n",
       "      <td>20.557122</td>\n",
       "      <td>23.994126</td>\n",
       "      <td>56.716769</td>\n",
       "      <td>12.892542</td>\n",
       "      <td>40.308676</td>\n",
       "      <td>164.928115</td>\n",
       "      <td>205.236791</td>\n",
       "    </tr>\n",
       "    <tr>\n",
       "      <th>std</th>\n",
       "      <td>1.10119</td>\n",
       "      <td>0.166024</td>\n",
       "      <td>0.469212</td>\n",
       "      <td>0.0</td>\n",
       "      <td>8.144427</td>\n",
       "      <td>8.869844</td>\n",
       "      <td>17.652654</td>\n",
       "      <td>8.287707</td>\n",
       "      <td>53.443710</td>\n",
       "      <td>155.294051</td>\n",
       "      <td>187.959566</td>\n",
       "    </tr>\n",
       "    <tr>\n",
       "      <th>min</th>\n",
       "      <td>1.00000</td>\n",
       "      <td>0.000000</td>\n",
       "      <td>0.000000</td>\n",
       "      <td>1.0</td>\n",
       "      <td>0.820000</td>\n",
       "      <td>0.760000</td>\n",
       "      <td>8.000000</td>\n",
       "      <td>0.000000</td>\n",
       "      <td>0.000000</td>\n",
       "      <td>0.000000</td>\n",
       "      <td>1.000000</td>\n",
       "    </tr>\n",
       "    <tr>\n",
       "      <th>25%</th>\n",
       "      <td>2.00000</td>\n",
       "      <td>0.000000</td>\n",
       "      <td>0.000000</td>\n",
       "      <td>1.0</td>\n",
       "      <td>13.940000</td>\n",
       "      <td>16.665000</td>\n",
       "      <td>43.000000</td>\n",
       "      <td>7.001500</td>\n",
       "      <td>5.000000</td>\n",
       "      <td>41.000000</td>\n",
       "      <td>48.000000</td>\n",
       "    </tr>\n",
       "    <tr>\n",
       "      <th>50%</th>\n",
       "      <td>3.00000</td>\n",
       "      <td>0.000000</td>\n",
       "      <td>1.000000</td>\n",
       "      <td>1.0</td>\n",
       "      <td>20.500000</td>\n",
       "      <td>24.240000</td>\n",
       "      <td>56.000000</td>\n",
       "      <td>12.998000</td>\n",
       "      <td>20.000000</td>\n",
       "      <td>130.000000</td>\n",
       "      <td>161.000000</td>\n",
       "    </tr>\n",
       "    <tr>\n",
       "      <th>75%</th>\n",
       "      <td>3.00000</td>\n",
       "      <td>0.000000</td>\n",
       "      <td>1.000000</td>\n",
       "      <td>1.0</td>\n",
       "      <td>27.060000</td>\n",
       "      <td>31.060000</td>\n",
       "      <td>70.000000</td>\n",
       "      <td>19.001200</td>\n",
       "      <td>55.000000</td>\n",
       "      <td>236.000000</td>\n",
       "      <td>305.000000</td>\n",
       "    </tr>\n",
       "    <tr>\n",
       "      <th>max</th>\n",
       "      <td>4.00000</td>\n",
       "      <td>1.000000</td>\n",
       "      <td>1.000000</td>\n",
       "      <td>1.0</td>\n",
       "      <td>41.000000</td>\n",
       "      <td>45.455000</td>\n",
       "      <td>100.000000</td>\n",
       "      <td>51.998700</td>\n",
       "      <td>367.000000</td>\n",
       "      <td>886.000000</td>\n",
       "      <td>977.000000</td>\n",
       "    </tr>\n",
       "  </tbody>\n",
       "</table>\n",
       "</div>"
      ],
      "text/plain": [
       "           season      holiday   workingday  weather         temp  \\\n",
       "count  7192.00000  7192.000000  7192.000000   7192.0  7192.000000   \n",
       "mean      2.49708     0.028365     0.672831      1.0    20.557122   \n",
       "std       1.10119     0.166024     0.469212      0.0     8.144427   \n",
       "min       1.00000     0.000000     0.000000      1.0     0.820000   \n",
       "25%       2.00000     0.000000     0.000000      1.0    13.940000   \n",
       "50%       3.00000     0.000000     1.000000      1.0    20.500000   \n",
       "75%       3.00000     0.000000     1.000000      1.0    27.060000   \n",
       "max       4.00000     1.000000     1.000000      1.0    41.000000   \n",
       "\n",
       "             atemp     humidity    windspeed       casual   registered  \\\n",
       "count  7192.000000  7192.000000  7192.000000  7192.000000  7192.000000   \n",
       "mean     23.994126    56.716769    12.892542    40.308676   164.928115   \n",
       "std       8.869844    17.652654     8.287707    53.443710   155.294051   \n",
       "min       0.760000     8.000000     0.000000     0.000000     0.000000   \n",
       "25%      16.665000    43.000000     7.001500     5.000000    41.000000   \n",
       "50%      24.240000    56.000000    12.998000    20.000000   130.000000   \n",
       "75%      31.060000    70.000000    19.001200    55.000000   236.000000   \n",
       "max      45.455000   100.000000    51.998700   367.000000   886.000000   \n",
       "\n",
       "             count  \n",
       "count  7192.000000  \n",
       "mean    205.236791  \n",
       "std     187.959566  \n",
       "min       1.000000  \n",
       "25%      48.000000  \n",
       "50%     161.000000  \n",
       "75%     305.000000  \n",
       "max     977.000000  "
      ]
     },
     "execution_count": 200,
     "metadata": {},
     "output_type": "execute_result"
    }
   ],
   "source": [
    "# 4. Check Test Assumptions\n",
    "# 5. Variances of different groups are equal\n",
    "a.describe()"
   ]
  },
  {
   "cell_type": "code",
   "execution_count": 201,
   "id": "9bb9efd0",
   "metadata": {},
   "outputs": [
    {
     "data": {
      "text/html": [
       "<div>\n",
       "<style scoped>\n",
       "    .dataframe tbody tr th:only-of-type {\n",
       "        vertical-align: middle;\n",
       "    }\n",
       "\n",
       "    .dataframe tbody tr th {\n",
       "        vertical-align: top;\n",
       "    }\n",
       "\n",
       "    .dataframe thead th {\n",
       "        text-align: right;\n",
       "    }\n",
       "</style>\n",
       "<table border=\"1\" class=\"dataframe\">\n",
       "  <thead>\n",
       "    <tr style=\"text-align: right;\">\n",
       "      <th></th>\n",
       "      <th>season</th>\n",
       "      <th>holiday</th>\n",
       "      <th>workingday</th>\n",
       "      <th>weather</th>\n",
       "      <th>temp</th>\n",
       "      <th>atemp</th>\n",
       "      <th>humidity</th>\n",
       "      <th>windspeed</th>\n",
       "      <th>casual</th>\n",
       "      <th>registered</th>\n",
       "      <th>count</th>\n",
       "    </tr>\n",
       "  </thead>\n",
       "  <tbody>\n",
       "    <tr>\n",
       "      <th>count</th>\n",
       "      <td>2834.000000</td>\n",
       "      <td>2834.000000</td>\n",
       "      <td>2834.000000</td>\n",
       "      <td>2834.0</td>\n",
       "      <td>2834.000000</td>\n",
       "      <td>2834.000000</td>\n",
       "      <td>2834.000000</td>\n",
       "      <td>2834.000000</td>\n",
       "      <td>2834.000000</td>\n",
       "      <td>2834.000000</td>\n",
       "      <td>2834.000000</td>\n",
       "    </tr>\n",
       "    <tr>\n",
       "      <th>mean</th>\n",
       "      <td>2.530346</td>\n",
       "      <td>0.032463</td>\n",
       "      <td>0.683486</td>\n",
       "      <td>2.0</td>\n",
       "      <td>19.614608</td>\n",
       "      <td>23.072414</td>\n",
       "      <td>69.100565</td>\n",
       "      <td>12.179905</td>\n",
       "      <td>30.785462</td>\n",
       "      <td>148.170078</td>\n",
       "      <td>178.955540</td>\n",
       "    </tr>\n",
       "    <tr>\n",
       "      <th>std</th>\n",
       "      <td>1.150498</td>\n",
       "      <td>0.177257</td>\n",
       "      <td>0.465198</td>\n",
       "      <td>0.0</td>\n",
       "      <td>7.172559</td>\n",
       "      <td>7.781651</td>\n",
       "      <td>17.281073</td>\n",
       "      <td>7.600776</td>\n",
       "      <td>43.027108</td>\n",
       "      <td>144.765721</td>\n",
       "      <td>168.366413</td>\n",
       "    </tr>\n",
       "    <tr>\n",
       "      <th>min</th>\n",
       "      <td>1.000000</td>\n",
       "      <td>0.000000</td>\n",
       "      <td>0.000000</td>\n",
       "      <td>2.0</td>\n",
       "      <td>3.280000</td>\n",
       "      <td>2.275000</td>\n",
       "      <td>0.000000</td>\n",
       "      <td>0.000000</td>\n",
       "      <td>0.000000</td>\n",
       "      <td>0.000000</td>\n",
       "      <td>1.000000</td>\n",
       "    </tr>\n",
       "    <tr>\n",
       "      <th>25%</th>\n",
       "      <td>1.000000</td>\n",
       "      <td>0.000000</td>\n",
       "      <td>0.000000</td>\n",
       "      <td>2.0</td>\n",
       "      <td>13.940000</td>\n",
       "      <td>16.665000</td>\n",
       "      <td>56.000000</td>\n",
       "      <td>7.001500</td>\n",
       "      <td>4.000000</td>\n",
       "      <td>35.000000</td>\n",
       "      <td>41.000000</td>\n",
       "    </tr>\n",
       "    <tr>\n",
       "      <th>50%</th>\n",
       "      <td>2.000000</td>\n",
       "      <td>0.000000</td>\n",
       "      <td>1.000000</td>\n",
       "      <td>2.0</td>\n",
       "      <td>18.860000</td>\n",
       "      <td>22.725000</td>\n",
       "      <td>70.000000</td>\n",
       "      <td>11.001400</td>\n",
       "      <td>15.000000</td>\n",
       "      <td>112.000000</td>\n",
       "      <td>134.000000</td>\n",
       "    </tr>\n",
       "    <tr>\n",
       "      <th>75%</th>\n",
       "      <td>4.000000</td>\n",
       "      <td>0.000000</td>\n",
       "      <td>1.000000</td>\n",
       "      <td>2.0</td>\n",
       "      <td>25.420000</td>\n",
       "      <td>29.545000</td>\n",
       "      <td>83.000000</td>\n",
       "      <td>16.997900</td>\n",
       "      <td>40.000000</td>\n",
       "      <td>211.000000</td>\n",
       "      <td>264.000000</td>\n",
       "    </tr>\n",
       "    <tr>\n",
       "      <th>max</th>\n",
       "      <td>4.000000</td>\n",
       "      <td>1.000000</td>\n",
       "      <td>1.000000</td>\n",
       "      <td>2.0</td>\n",
       "      <td>39.360000</td>\n",
       "      <td>43.180000</td>\n",
       "      <td>100.000000</td>\n",
       "      <td>47.998800</td>\n",
       "      <td>350.000000</td>\n",
       "      <td>788.000000</td>\n",
       "      <td>890.000000</td>\n",
       "    </tr>\n",
       "  </tbody>\n",
       "</table>\n",
       "</div>"
      ],
      "text/plain": [
       "            season      holiday   workingday  weather         temp  \\\n",
       "count  2834.000000  2834.000000  2834.000000   2834.0  2834.000000   \n",
       "mean      2.530346     0.032463     0.683486      2.0    19.614608   \n",
       "std       1.150498     0.177257     0.465198      0.0     7.172559   \n",
       "min       1.000000     0.000000     0.000000      2.0     3.280000   \n",
       "25%       1.000000     0.000000     0.000000      2.0    13.940000   \n",
       "50%       2.000000     0.000000     1.000000      2.0    18.860000   \n",
       "75%       4.000000     0.000000     1.000000      2.0    25.420000   \n",
       "max       4.000000     1.000000     1.000000      2.0    39.360000   \n",
       "\n",
       "             atemp     humidity    windspeed       casual   registered  \\\n",
       "count  2834.000000  2834.000000  2834.000000  2834.000000  2834.000000   \n",
       "mean     23.072414    69.100565    12.179905    30.785462   148.170078   \n",
       "std       7.781651    17.281073     7.600776    43.027108   144.765721   \n",
       "min       2.275000     0.000000     0.000000     0.000000     0.000000   \n",
       "25%      16.665000    56.000000     7.001500     4.000000    35.000000   \n",
       "50%      22.725000    70.000000    11.001400    15.000000   112.000000   \n",
       "75%      29.545000    83.000000    16.997900    40.000000   211.000000   \n",
       "max      43.180000   100.000000    47.998800   350.000000   788.000000   \n",
       "\n",
       "             count  \n",
       "count  2834.000000  \n",
       "mean    178.955540  \n",
       "std     168.366413  \n",
       "min       1.000000  \n",
       "25%      41.000000  \n",
       "50%     134.000000  \n",
       "75%     264.000000  \n",
       "max     890.000000  "
      ]
     },
     "execution_count": 201,
     "metadata": {},
     "output_type": "execute_result"
    }
   ],
   "source": [
    "b.describe()"
   ]
  },
  {
   "cell_type": "code",
   "execution_count": 202,
   "id": "13b055c5",
   "metadata": {},
   "outputs": [
    {
     "data": {
      "text/html": [
       "<div>\n",
       "<style scoped>\n",
       "    .dataframe tbody tr th:only-of-type {\n",
       "        vertical-align: middle;\n",
       "    }\n",
       "\n",
       "    .dataframe tbody tr th {\n",
       "        vertical-align: top;\n",
       "    }\n",
       "\n",
       "    .dataframe thead th {\n",
       "        text-align: right;\n",
       "    }\n",
       "</style>\n",
       "<table border=\"1\" class=\"dataframe\">\n",
       "  <thead>\n",
       "    <tr style=\"text-align: right;\">\n",
       "      <th></th>\n",
       "      <th>season</th>\n",
       "      <th>holiday</th>\n",
       "      <th>workingday</th>\n",
       "      <th>weather</th>\n",
       "      <th>temp</th>\n",
       "      <th>atemp</th>\n",
       "      <th>humidity</th>\n",
       "      <th>windspeed</th>\n",
       "      <th>casual</th>\n",
       "      <th>registered</th>\n",
       "      <th>count</th>\n",
       "    </tr>\n",
       "  </thead>\n",
       "  <tbody>\n",
       "    <tr>\n",
       "      <th>count</th>\n",
       "      <td>859.000000</td>\n",
       "      <td>859.000000</td>\n",
       "      <td>859.000000</td>\n",
       "      <td>859.0</td>\n",
       "      <td>859.000000</td>\n",
       "      <td>859.000000</td>\n",
       "      <td>859.000000</td>\n",
       "      <td>859.000000</td>\n",
       "      <td>859.000000</td>\n",
       "      <td>859.000000</td>\n",
       "      <td>859.000000</td>\n",
       "    </tr>\n",
       "    <tr>\n",
       "      <th>mean</th>\n",
       "      <td>2.509895</td>\n",
       "      <td>0.017462</td>\n",
       "      <td>0.739232</td>\n",
       "      <td>3.0</td>\n",
       "      <td>19.546356</td>\n",
       "      <td>22.753091</td>\n",
       "      <td>81.341094</td>\n",
       "      <td>14.071248</td>\n",
       "      <td>17.442375</td>\n",
       "      <td>101.403958</td>\n",
       "      <td>118.846333</td>\n",
       "    </tr>\n",
       "    <tr>\n",
       "      <th>std</th>\n",
       "      <td>1.125393</td>\n",
       "      <td>0.131062</td>\n",
       "      <td>0.439310</td>\n",
       "      <td>0.0</td>\n",
       "      <td>6.449593</td>\n",
       "      <td>6.980990</td>\n",
       "      <td>18.039876</td>\n",
       "      <td>8.731668</td>\n",
       "      <td>31.993259</td>\n",
       "      <td>119.344152</td>\n",
       "      <td>138.581297</td>\n",
       "    </tr>\n",
       "    <tr>\n",
       "      <th>min</th>\n",
       "      <td>1.000000</td>\n",
       "      <td>0.000000</td>\n",
       "      <td>0.000000</td>\n",
       "      <td>3.0</td>\n",
       "      <td>3.280000</td>\n",
       "      <td>2.275000</td>\n",
       "      <td>0.000000</td>\n",
       "      <td>0.000000</td>\n",
       "      <td>0.000000</td>\n",
       "      <td>0.000000</td>\n",
       "      <td>1.000000</td>\n",
       "    </tr>\n",
       "    <tr>\n",
       "      <th>25%</th>\n",
       "      <td>2.000000</td>\n",
       "      <td>0.000000</td>\n",
       "      <td>0.000000</td>\n",
       "      <td>3.0</td>\n",
       "      <td>14.760000</td>\n",
       "      <td>17.425000</td>\n",
       "      <td>76.000000</td>\n",
       "      <td>7.999800</td>\n",
       "      <td>1.000000</td>\n",
       "      <td>21.500000</td>\n",
       "      <td>23.000000</td>\n",
       "    </tr>\n",
       "    <tr>\n",
       "      <th>50%</th>\n",
       "      <td>2.000000</td>\n",
       "      <td>0.000000</td>\n",
       "      <td>1.000000</td>\n",
       "      <td>3.0</td>\n",
       "      <td>19.680000</td>\n",
       "      <td>23.485000</td>\n",
       "      <td>87.000000</td>\n",
       "      <td>12.998000</td>\n",
       "      <td>6.000000</td>\n",
       "      <td>64.000000</td>\n",
       "      <td>71.000000</td>\n",
       "    </tr>\n",
       "    <tr>\n",
       "      <th>75%</th>\n",
       "      <td>4.000000</td>\n",
       "      <td>0.000000</td>\n",
       "      <td>1.000000</td>\n",
       "      <td>3.0</td>\n",
       "      <td>24.600000</td>\n",
       "      <td>27.275000</td>\n",
       "      <td>93.000000</td>\n",
       "      <td>19.001200</td>\n",
       "      <td>18.500000</td>\n",
       "      <td>134.000000</td>\n",
       "      <td>161.000000</td>\n",
       "    </tr>\n",
       "    <tr>\n",
       "      <th>max</th>\n",
       "      <td>4.000000</td>\n",
       "      <td>1.000000</td>\n",
       "      <td>1.000000</td>\n",
       "      <td>3.0</td>\n",
       "      <td>37.720000</td>\n",
       "      <td>44.695000</td>\n",
       "      <td>100.000000</td>\n",
       "      <td>56.996900</td>\n",
       "      <td>263.000000</td>\n",
       "      <td>791.000000</td>\n",
       "      <td>891.000000</td>\n",
       "    </tr>\n",
       "  </tbody>\n",
       "</table>\n",
       "</div>"
      ],
      "text/plain": [
       "           season     holiday  workingday  weather        temp       atemp  \\\n",
       "count  859.000000  859.000000  859.000000    859.0  859.000000  859.000000   \n",
       "mean     2.509895    0.017462    0.739232      3.0   19.546356   22.753091   \n",
       "std      1.125393    0.131062    0.439310      0.0    6.449593    6.980990   \n",
       "min      1.000000    0.000000    0.000000      3.0    3.280000    2.275000   \n",
       "25%      2.000000    0.000000    0.000000      3.0   14.760000   17.425000   \n",
       "50%      2.000000    0.000000    1.000000      3.0   19.680000   23.485000   \n",
       "75%      4.000000    0.000000    1.000000      3.0   24.600000   27.275000   \n",
       "max      4.000000    1.000000    1.000000      3.0   37.720000   44.695000   \n",
       "\n",
       "         humidity   windspeed      casual  registered       count  \n",
       "count  859.000000  859.000000  859.000000  859.000000  859.000000  \n",
       "mean    81.341094   14.071248   17.442375  101.403958  118.846333  \n",
       "std     18.039876    8.731668   31.993259  119.344152  138.581297  \n",
       "min      0.000000    0.000000    0.000000    0.000000    1.000000  \n",
       "25%     76.000000    7.999800    1.000000   21.500000   23.000000  \n",
       "50%     87.000000   12.998000    6.000000   64.000000   71.000000  \n",
       "75%     93.000000   19.001200   18.500000  134.000000  161.000000  \n",
       "max    100.000000   56.996900  263.000000  791.000000  891.000000  "
      ]
     },
     "execution_count": 202,
     "metadata": {},
     "output_type": "execute_result"
    }
   ],
   "source": [
    "c.describe()"
   ]
  },
  {
   "cell_type": "markdown",
   "id": "48c599f9",
   "metadata": {},
   "source": [
    "#### The standard deviation of count is almost similar in all the groups and so equal variances can be assumed"
   ]
  },
  {
   "cell_type": "code",
   "execution_count": 204,
   "id": "0149e739",
   "metadata": {},
   "outputs": [
    {
     "name": "stdout",
     "output_type": "stream",
     "text": [
      "98.28356881946706\n",
      "4.976448509904196e-43\n"
     ]
    }
   ],
   "source": [
    "# 5. Finding p value at 95% confidence with a significance value of 0.05\n",
    "f_stat,p_value=f_oneway(a['count'],b['count'],c['count'])\n",
    "print(f_stat)\n",
    "print(p_value)"
   ]
  },
  {
   "cell_type": "code",
   "execution_count": 205,
   "id": "645b7555",
   "metadata": {},
   "outputs": [
    {
     "name": "stdout",
     "output_type": "stream",
     "text": [
      "Reject H0\n"
     ]
    }
   ],
   "source": [
    "# 6. Conclusion based on the p value\n",
    "alpha=0.05\n",
    "if p_value< alpha:\n",
    "    print('Reject H0')\n",
    "else:\n",
    "    print('Fail to reject H0')"
   ]
  },
  {
   "cell_type": "markdown",
   "id": "3945360f",
   "metadata": {},
   "source": [
    "### Based on the Anova test, we reject the null hypothesis. So we can confirm that weather does have an effect on the number of electric cycles rented as is seen in the visual analysis also."
   ]
  },
  {
   "cell_type": "markdown",
   "id": "d02f717a",
   "metadata": {},
   "source": [
    "### 2.3 Checking if season has an effect on the number of electric cycles rented"
   ]
  },
  {
   "cell_type": "code",
   "execution_count": 217,
   "id": "07807073",
   "metadata": {},
   "outputs": [
    {
     "data": {
      "text/plain": [
       "<AxesSubplot:xlabel='season', ylabel='count'>"
      ]
     },
     "execution_count": 217,
     "metadata": {},
     "output_type": "execute_result"
    },
    {
     "data": {
      "image/png": "[encoded data removed]",
      "text/plain": [
       "<Figure size 432x288 with 1 Axes>"
      ]
     },
     "metadata": {
      "needs_background": "light"
     },
     "output_type": "display_data"
    }
   ],
   "source": [
    "# 1. Visual Analysis\n",
    "sns.barplot(data=df,x=df['season'],y=df['count'])"
   ]
  },
  {
   "cell_type": "markdown",
   "id": "47dd4a35",
   "metadata": {},
   "source": [
    "### The number of cycles rented is more during fall followed by summer season. It was least during spring. "
   ]
  },
  {
   "cell_type": "markdown",
   "id": "74edd0e9",
   "metadata": {},
   "source": [
    "#### 2. Hypothesis Formulation\n",
    "#### H0 : Season has no effect on the number of electric cycles rented\n",
    "#### Ha : Season has an effect on the number of electric cycles rented"
   ]
  },
  {
   "cell_type": "markdown",
   "id": "d82e94ea",
   "metadata": {},
   "source": [
    "#### 3. Select the appropriate test\n",
    "#### We are comparing a categorical variable(Season) with more than 2 features against a continous variable(count) \n",
    "#### So we will be using the ANOVA test in this case"
   ]
  },
  {
   "cell_type": "markdown",
   "id": "7c84f729",
   "metadata": {},
   "source": [
    "#### 4. Check Test assumptions\n",
    "####   1. Data values are independent - True for this dataset"
   ]
  },
  {
   "cell_type": "code",
   "execution_count": 219,
   "id": "9fb4aa62",
   "metadata": {},
   "outputs": [
    {
     "data": {
      "text/plain": [
       "<AxesSubplot:xlabel='count', ylabel='Count'>"
      ]
     },
     "execution_count": 219,
     "metadata": {},
     "output_type": "execute_result"
    },
    {
     "data": {
      "image/png": "[encoded data removed]",
      "text/plain": [
       "<Figure size 432x288 with 1 Axes>"
      ]
     },
     "metadata": {
      "needs_background": "light"
     },
     "output_type": "display_data"
    }
   ],
   "source": [
    "# Check Test Assumptions\n",
    "# 2. Data is normally distributed \n",
    "a=df[df['season']==1]\n",
    "b=df[df['season']==2]\n",
    "c=df[df['season']==3]\n",
    "d=df[df['season']==4] \n",
    "sns.histplot(a['count'],bins=30)"
   ]
  },
  {
   "cell_type": "code",
   "execution_count": 220,
   "id": "066a8265",
   "metadata": {},
   "outputs": [
    {
     "data": {
      "text/plain": [
       "<AxesSubplot:xlabel='count', ylabel='Count'>"
      ]
     },
     "execution_count": 220,
     "metadata": {},
     "output_type": "execute_result"
    },
    {
     "data": {
      "image/png": "[encoded data removed]",
      "text/plain": [
       "<Figure size 432x288 with 1 Axes>"
      ]
     },
     "metadata": {
      "needs_background": "light"
     },
     "output_type": "display_data"
    }
   ],
   "source": [
    "sns.histplot(b['count'],bins=30)"
   ]
  },
  {
   "cell_type": "code",
   "execution_count": 221,
   "id": "f2e63163",
   "metadata": {},
   "outputs": [
    {
     "data": {
      "text/plain": [
       "<AxesSubplot:xlabel='count', ylabel='Count'>"
      ]
     },
     "execution_count": 221,
     "metadata": {},
     "output_type": "execute_result"
    },
    {
     "data": {
      "image/png": "[encoded data removed]",
      "text/plain": [
       "<Figure size 432x288 with 1 Axes>"
      ]
     },
     "metadata": {
      "needs_background": "light"
     },
     "output_type": "display_data"
    }
   ],
   "source": [
    "sns.histplot(c['count'],bins=30)"
   ]
  },
  {
   "cell_type": "code",
   "execution_count": 222,
   "id": "c905b771",
   "metadata": {},
   "outputs": [
    {
     "data": {
      "text/plain": [
       "<AxesSubplot:xlabel='count', ylabel='Count'>"
      ]
     },
     "execution_count": 222,
     "metadata": {},
     "output_type": "execute_result"
    },
    {
     "data": {
      "image/png": "[encoded data removed]",
      "text/plain": [
       "<Figure size 432x288 with 1 Axes>"
      ]
     },
     "metadata": {
      "needs_background": "light"
     },
     "output_type": "display_data"
    }
   ],
   "source": [
    "sns.histplot(d['count'],bins=30)"
   ]
  },
  {
   "cell_type": "markdown",
   "id": "4aa22a10",
   "metadata": {},
   "source": [
    "#### The data does not seem bell shaped, so the assumption does not hold true"
   ]
  },
  {
   "cell_type": "code",
   "execution_count": 227,
   "id": "1eda83fb",
   "metadata": {},
   "outputs": [
    {
     "data": {
      "text/html": [
       "<div>\n",
       "<style scoped>\n",
       "    .dataframe tbody tr th:only-of-type {\n",
       "        vertical-align: middle;\n",
       "    }\n",
       "\n",
       "    .dataframe tbody tr th {\n",
       "        vertical-align: top;\n",
       "    }\n",
       "\n",
       "    .dataframe thead th {\n",
       "        text-align: right;\n",
       "    }\n",
       "</style>\n",
       "<table border=\"1\" class=\"dataframe\">\n",
       "  <thead>\n",
       "    <tr style=\"text-align: right;\">\n",
       "      <th></th>\n",
       "      <th>season</th>\n",
       "      <th>holiday</th>\n",
       "      <th>workingday</th>\n",
       "      <th>weather</th>\n",
       "      <th>temp</th>\n",
       "      <th>atemp</th>\n",
       "      <th>humidity</th>\n",
       "      <th>windspeed</th>\n",
       "      <th>casual</th>\n",
       "      <th>registered</th>\n",
       "      <th>count</th>\n",
       "    </tr>\n",
       "  </thead>\n",
       "  <tbody>\n",
       "    <tr>\n",
       "      <th>count</th>\n",
       "      <td>2686.0</td>\n",
       "      <td>2686.000000</td>\n",
       "      <td>2686.000000</td>\n",
       "      <td>2686.000000</td>\n",
       "      <td>2686.000000</td>\n",
       "      <td>2686.000000</td>\n",
       "      <td>2686.000000</td>\n",
       "      <td>2686.000000</td>\n",
       "      <td>2686.000000</td>\n",
       "      <td>2686.000000</td>\n",
       "      <td>2686.000000</td>\n",
       "    </tr>\n",
       "    <tr>\n",
       "      <th>mean</th>\n",
       "      <td>1.0</td>\n",
       "      <td>0.026433</td>\n",
       "      <td>0.680566</td>\n",
       "      <td>1.424423</td>\n",
       "      <td>12.530491</td>\n",
       "      <td>15.228956</td>\n",
       "      <td>56.297841</td>\n",
       "      <td>14.636978</td>\n",
       "      <td>15.489576</td>\n",
       "      <td>100.853686</td>\n",
       "      <td>116.343261</td>\n",
       "    </tr>\n",
       "    <tr>\n",
       "      <th>std</th>\n",
       "      <td>0.0</td>\n",
       "      <td>0.160450</td>\n",
       "      <td>0.466344</td>\n",
       "      <td>0.635439</td>\n",
       "      <td>5.186492</td>\n",
       "      <td>6.092218</td>\n",
       "      <td>20.158420</td>\n",
       "      <td>9.150257</td>\n",
       "      <td>31.222498</td>\n",
       "      <td>108.082025</td>\n",
       "      <td>125.273974</td>\n",
       "    </tr>\n",
       "    <tr>\n",
       "      <th>min</th>\n",
       "      <td>1.0</td>\n",
       "      <td>0.000000</td>\n",
       "      <td>0.000000</td>\n",
       "      <td>1.000000</td>\n",
       "      <td>0.820000</td>\n",
       "      <td>0.760000</td>\n",
       "      <td>0.000000</td>\n",
       "      <td>0.000000</td>\n",
       "      <td>0.000000</td>\n",
       "      <td>0.000000</td>\n",
       "      <td>1.000000</td>\n",
       "    </tr>\n",
       "    <tr>\n",
       "      <th>25%</th>\n",
       "      <td>1.0</td>\n",
       "      <td>0.000000</td>\n",
       "      <td>0.000000</td>\n",
       "      <td>1.000000</td>\n",
       "      <td>9.020000</td>\n",
       "      <td>10.605000</td>\n",
       "      <td>41.000000</td>\n",
       "      <td>7.001500</td>\n",
       "      <td>1.000000</td>\n",
       "      <td>22.000000</td>\n",
       "      <td>24.000000</td>\n",
       "    </tr>\n",
       "    <tr>\n",
       "      <th>50%</th>\n",
       "      <td>1.0</td>\n",
       "      <td>0.000000</td>\n",
       "      <td>1.000000</td>\n",
       "      <td>1.000000</td>\n",
       "      <td>12.300000</td>\n",
       "      <td>14.395000</td>\n",
       "      <td>53.000000</td>\n",
       "      <td>12.998000</td>\n",
       "      <td>5.000000</td>\n",
       "      <td>69.000000</td>\n",
       "      <td>78.000000</td>\n",
       "    </tr>\n",
       "    <tr>\n",
       "      <th>75%</th>\n",
       "      <td>1.0</td>\n",
       "      <td>0.000000</td>\n",
       "      <td>1.000000</td>\n",
       "      <td>2.000000</td>\n",
       "      <td>16.400000</td>\n",
       "      <td>20.455000</td>\n",
       "      <td>70.000000</td>\n",
       "      <td>19.999500</td>\n",
       "      <td>15.000000</td>\n",
       "      <td>141.000000</td>\n",
       "      <td>164.000000</td>\n",
       "    </tr>\n",
       "    <tr>\n",
       "      <th>max</th>\n",
       "      <td>1.0</td>\n",
       "      <td>1.000000</td>\n",
       "      <td>1.000000</td>\n",
       "      <td>4.000000</td>\n",
       "      <td>29.520000</td>\n",
       "      <td>32.575000</td>\n",
       "      <td>100.000000</td>\n",
       "      <td>51.998700</td>\n",
       "      <td>367.000000</td>\n",
       "      <td>681.000000</td>\n",
       "      <td>801.000000</td>\n",
       "    </tr>\n",
       "  </tbody>\n",
       "</table>\n",
       "</div>"
      ],
      "text/plain": [
       "       season      holiday   workingday      weather         temp  \\\n",
       "count  2686.0  2686.000000  2686.000000  2686.000000  2686.000000   \n",
       "mean      1.0     0.026433     0.680566     1.424423    12.530491   \n",
       "std       0.0     0.160450     0.466344     0.635439     5.186492   \n",
       "min       1.0     0.000000     0.000000     1.000000     0.820000   \n",
       "25%       1.0     0.000000     0.000000     1.000000     9.020000   \n",
       "50%       1.0     0.000000     1.000000     1.000000    12.300000   \n",
       "75%       1.0     0.000000     1.000000     2.000000    16.400000   \n",
       "max       1.0     1.000000     1.000000     4.000000    29.520000   \n",
       "\n",
       "             atemp     humidity    windspeed       casual   registered  \\\n",
       "count  2686.000000  2686.000000  2686.000000  2686.000000  2686.000000   \n",
       "mean     15.228956    56.297841    14.636978    15.489576   100.853686   \n",
       "std       6.092218    20.158420     9.150257    31.222498   108.082025   \n",
       "min       0.760000     0.000000     0.000000     0.000000     0.000000   \n",
       "25%      10.605000    41.000000     7.001500     1.000000    22.000000   \n",
       "50%      14.395000    53.000000    12.998000     5.000000    69.000000   \n",
       "75%      20.455000    70.000000    19.999500    15.000000   141.000000   \n",
       "max      32.575000   100.000000    51.998700   367.000000   681.000000   \n",
       "\n",
       "             count  \n",
       "count  2686.000000  \n",
       "mean    116.343261  \n",
       "std     125.273974  \n",
       "min       1.000000  \n",
       "25%      24.000000  \n",
       "50%      78.000000  \n",
       "75%     164.000000  \n",
       "max     801.000000  "
      ]
     },
     "execution_count": 227,
     "metadata": {},
     "output_type": "execute_result"
    }
   ],
   "source": [
    "# 4. Check Test Assumptions\n",
    "# 5. Variances of different groups are equal\n",
    "a.describe()"
   ]
  },
  {
   "cell_type": "code",
   "execution_count": 228,
   "id": "6c0fbc02",
   "metadata": {},
   "outputs": [
    {
     "data": {
      "text/html": [
       "<div>\n",
       "<style scoped>\n",
       "    .dataframe tbody tr th:only-of-type {\n",
       "        vertical-align: middle;\n",
       "    }\n",
       "\n",
       "    .dataframe tbody tr th {\n",
       "        vertical-align: top;\n",
       "    }\n",
       "\n",
       "    .dataframe thead th {\n",
       "        text-align: right;\n",
       "    }\n",
       "</style>\n",
       "<table border=\"1\" class=\"dataframe\">\n",
       "  <thead>\n",
       "    <tr style=\"text-align: right;\">\n",
       "      <th></th>\n",
       "      <th>season</th>\n",
       "      <th>holiday</th>\n",
       "      <th>workingday</th>\n",
       "      <th>weather</th>\n",
       "      <th>temp</th>\n",
       "      <th>atemp</th>\n",
       "      <th>humidity</th>\n",
       "      <th>windspeed</th>\n",
       "      <th>casual</th>\n",
       "      <th>registered</th>\n",
       "      <th>count</th>\n",
       "    </tr>\n",
       "  </thead>\n",
       "  <tbody>\n",
       "    <tr>\n",
       "      <th>count</th>\n",
       "      <td>2733.0</td>\n",
       "      <td>2733.000000</td>\n",
       "      <td>2733.000000</td>\n",
       "      <td>2733.000000</td>\n",
       "      <td>2733.000000</td>\n",
       "      <td>2733.000000</td>\n",
       "      <td>2733.000000</td>\n",
       "      <td>2733.000000</td>\n",
       "      <td>2733.000000</td>\n",
       "      <td>2733.000000</td>\n",
       "      <td>2733.000000</td>\n",
       "    </tr>\n",
       "    <tr>\n",
       "      <th>mean</th>\n",
       "      <td>2.0</td>\n",
       "      <td>0.017563</td>\n",
       "      <td>0.692645</td>\n",
       "      <td>1.422978</td>\n",
       "      <td>22.823483</td>\n",
       "      <td>26.647098</td>\n",
       "      <td>60.852909</td>\n",
       "      <td>13.405607</td>\n",
       "      <td>47.446762</td>\n",
       "      <td>167.804610</td>\n",
       "      <td>215.251372</td>\n",
       "    </tr>\n",
       "    <tr>\n",
       "      <th>std</th>\n",
       "      <td>0.0</td>\n",
       "      <td>0.131381</td>\n",
       "      <td>0.461482</td>\n",
       "      <td>0.638858</td>\n",
       "      <td>5.159616</td>\n",
       "      <td>5.491321</td>\n",
       "      <td>20.179655</td>\n",
       "      <td>7.992956</td>\n",
       "      <td>57.649556</td>\n",
       "      <td>156.156658</td>\n",
       "      <td>192.007843</td>\n",
       "    </tr>\n",
       "    <tr>\n",
       "      <th>min</th>\n",
       "      <td>2.0</td>\n",
       "      <td>0.000000</td>\n",
       "      <td>0.000000</td>\n",
       "      <td>1.000000</td>\n",
       "      <td>9.840000</td>\n",
       "      <td>11.365000</td>\n",
       "      <td>16.000000</td>\n",
       "      <td>0.000000</td>\n",
       "      <td>0.000000</td>\n",
       "      <td>0.000000</td>\n",
       "      <td>1.000000</td>\n",
       "    </tr>\n",
       "    <tr>\n",
       "      <th>25%</th>\n",
       "      <td>2.0</td>\n",
       "      <td>0.000000</td>\n",
       "      <td>0.000000</td>\n",
       "      <td>1.000000</td>\n",
       "      <td>18.860000</td>\n",
       "      <td>22.725000</td>\n",
       "      <td>45.000000</td>\n",
       "      <td>7.001500</td>\n",
       "      <td>8.000000</td>\n",
       "      <td>39.000000</td>\n",
       "      <td>49.000000</td>\n",
       "    </tr>\n",
       "    <tr>\n",
       "      <th>50%</th>\n",
       "      <td>2.0</td>\n",
       "      <td>0.000000</td>\n",
       "      <td>1.000000</td>\n",
       "      <td>1.000000</td>\n",
       "      <td>22.960000</td>\n",
       "      <td>26.515000</td>\n",
       "      <td>61.000000</td>\n",
       "      <td>12.998000</td>\n",
       "      <td>29.000000</td>\n",
       "      <td>133.000000</td>\n",
       "      <td>172.000000</td>\n",
       "    </tr>\n",
       "    <tr>\n",
       "      <th>75%</th>\n",
       "      <td>2.0</td>\n",
       "      <td>0.000000</td>\n",
       "      <td>1.000000</td>\n",
       "      <td>2.000000</td>\n",
       "      <td>26.240000</td>\n",
       "      <td>31.060000</td>\n",
       "      <td>78.000000</td>\n",
       "      <td>19.001200</td>\n",
       "      <td>63.000000</td>\n",
       "      <td>243.000000</td>\n",
       "      <td>321.000000</td>\n",
       "    </tr>\n",
       "    <tr>\n",
       "      <th>max</th>\n",
       "      <td>2.0</td>\n",
       "      <td>1.000000</td>\n",
       "      <td>1.000000</td>\n",
       "      <td>3.000000</td>\n",
       "      <td>38.540000</td>\n",
       "      <td>43.940000</td>\n",
       "      <td>100.000000</td>\n",
       "      <td>47.998800</td>\n",
       "      <td>361.000000</td>\n",
       "      <td>782.000000</td>\n",
       "      <td>873.000000</td>\n",
       "    </tr>\n",
       "  </tbody>\n",
       "</table>\n",
       "</div>"
      ],
      "text/plain": [
       "       season      holiday   workingday      weather         temp  \\\n",
       "count  2733.0  2733.000000  2733.000000  2733.000000  2733.000000   \n",
       "mean      2.0     0.017563     0.692645     1.422978    22.823483   \n",
       "std       0.0     0.131381     0.461482     0.638858     5.159616   \n",
       "min       2.0     0.000000     0.000000     1.000000     9.840000   \n",
       "25%       2.0     0.000000     0.000000     1.000000    18.860000   \n",
       "50%       2.0     0.000000     1.000000     1.000000    22.960000   \n",
       "75%       2.0     0.000000     1.000000     2.000000    26.240000   \n",
       "max       2.0     1.000000     1.000000     3.000000    38.540000   \n",
       "\n",
       "             atemp     humidity    windspeed       casual   registered  \\\n",
       "count  2733.000000  2733.000000  2733.000000  2733.000000  2733.000000   \n",
       "mean     26.647098    60.852909    13.405607    47.446762   167.804610   \n",
       "std       5.491321    20.179655     7.992956    57.649556   156.156658   \n",
       "min      11.365000    16.000000     0.000000     0.000000     0.000000   \n",
       "25%      22.725000    45.000000     7.001500     8.000000    39.000000   \n",
       "50%      26.515000    61.000000    12.998000    29.000000   133.000000   \n",
       "75%      31.060000    78.000000    19.001200    63.000000   243.000000   \n",
       "max      43.940000   100.000000    47.998800   361.000000   782.000000   \n",
       "\n",
       "             count  \n",
       "count  2733.000000  \n",
       "mean    215.251372  \n",
       "std     192.007843  \n",
       "min       1.000000  \n",
       "25%      49.000000  \n",
       "50%     172.000000  \n",
       "75%     321.000000  \n",
       "max     873.000000  "
      ]
     },
     "execution_count": 228,
     "metadata": {},
     "output_type": "execute_result"
    }
   ],
   "source": [
    "b.describe()"
   ]
  },
  {
   "cell_type": "code",
   "execution_count": 229,
   "id": "39a45daf",
   "metadata": {},
   "outputs": [
    {
     "data": {
      "text/html": [
       "<div>\n",
       "<style scoped>\n",
       "    .dataframe tbody tr th:only-of-type {\n",
       "        vertical-align: middle;\n",
       "    }\n",
       "\n",
       "    .dataframe tbody tr th {\n",
       "        vertical-align: top;\n",
       "    }\n",
       "\n",
       "    .dataframe thead th {\n",
       "        text-align: right;\n",
       "    }\n",
       "</style>\n",
       "<table border=\"1\" class=\"dataframe\">\n",
       "  <thead>\n",
       "    <tr style=\"text-align: right;\">\n",
       "      <th></th>\n",
       "      <th>season</th>\n",
       "      <th>holiday</th>\n",
       "      <th>workingday</th>\n",
       "      <th>weather</th>\n",
       "      <th>temp</th>\n",
       "      <th>atemp</th>\n",
       "      <th>humidity</th>\n",
       "      <th>windspeed</th>\n",
       "      <th>casual</th>\n",
       "      <th>registered</th>\n",
       "      <th>count</th>\n",
       "    </tr>\n",
       "  </thead>\n",
       "  <tbody>\n",
       "    <tr>\n",
       "      <th>count</th>\n",
       "      <td>2733.0</td>\n",
       "      <td>2733.000000</td>\n",
       "      <td>2733.000000</td>\n",
       "      <td>2733.000000</td>\n",
       "      <td>2733.000000</td>\n",
       "      <td>2733.000000</td>\n",
       "      <td>2733.000000</td>\n",
       "      <td>2733.000000</td>\n",
       "      <td>2733.000000</td>\n",
       "      <td>2733.000000</td>\n",
       "      <td>2733.000000</td>\n",
       "    </tr>\n",
       "    <tr>\n",
       "      <th>mean</th>\n",
       "      <td>3.0</td>\n",
       "      <td>0.035126</td>\n",
       "      <td>0.675082</td>\n",
       "      <td>1.366630</td>\n",
       "      <td>28.789111</td>\n",
       "      <td>32.540783</td>\n",
       "      <td>64.123674</td>\n",
       "      <td>11.508862</td>\n",
       "      <td>52.220271</td>\n",
       "      <td>182.196853</td>\n",
       "      <td>234.417124</td>\n",
       "    </tr>\n",
       "    <tr>\n",
       "      <th>std</th>\n",
       "      <td>0.0</td>\n",
       "      <td>0.184133</td>\n",
       "      <td>0.468430</td>\n",
       "      <td>0.614799</td>\n",
       "      <td>3.898157</td>\n",
       "      <td>4.594888</td>\n",
       "      <td>17.217859</td>\n",
       "      <td>7.160605</td>\n",
       "      <td>54.638059</td>\n",
       "      <td>164.386982</td>\n",
       "      <td>197.151001</td>\n",
       "    </tr>\n",
       "    <tr>\n",
       "      <th>min</th>\n",
       "      <td>3.0</td>\n",
       "      <td>0.000000</td>\n",
       "      <td>0.000000</td>\n",
       "      <td>1.000000</td>\n",
       "      <td>15.580000</td>\n",
       "      <td>12.120000</td>\n",
       "      <td>17.000000</td>\n",
       "      <td>0.000000</td>\n",
       "      <td>0.000000</td>\n",
       "      <td>0.000000</td>\n",
       "      <td>1.000000</td>\n",
       "    </tr>\n",
       "    <tr>\n",
       "      <th>25%</th>\n",
       "      <td>3.0</td>\n",
       "      <td>0.000000</td>\n",
       "      <td>0.000000</td>\n",
       "      <td>1.000000</td>\n",
       "      <td>26.240000</td>\n",
       "      <td>30.305000</td>\n",
       "      <td>51.000000</td>\n",
       "      <td>7.001500</td>\n",
       "      <td>10.000000</td>\n",
       "      <td>53.000000</td>\n",
       "      <td>68.000000</td>\n",
       "    </tr>\n",
       "    <tr>\n",
       "      <th>50%</th>\n",
       "      <td>3.0</td>\n",
       "      <td>0.000000</td>\n",
       "      <td>1.000000</td>\n",
       "      <td>1.000000</td>\n",
       "      <td>28.700000</td>\n",
       "      <td>33.335000</td>\n",
       "      <td>66.000000</td>\n",
       "      <td>11.001400</td>\n",
       "      <td>36.000000</td>\n",
       "      <td>151.000000</td>\n",
       "      <td>195.000000</td>\n",
       "    </tr>\n",
       "    <tr>\n",
       "      <th>75%</th>\n",
       "      <td>3.0</td>\n",
       "      <td>0.000000</td>\n",
       "      <td>1.000000</td>\n",
       "      <td>2.000000</td>\n",
       "      <td>31.160000</td>\n",
       "      <td>35.605000</td>\n",
       "      <td>78.000000</td>\n",
       "      <td>15.001300</td>\n",
       "      <td>74.000000</td>\n",
       "      <td>252.000000</td>\n",
       "      <td>347.000000</td>\n",
       "    </tr>\n",
       "    <tr>\n",
       "      <th>max</th>\n",
       "      <td>3.0</td>\n",
       "      <td>1.000000</td>\n",
       "      <td>1.000000</td>\n",
       "      <td>3.000000</td>\n",
       "      <td>41.000000</td>\n",
       "      <td>45.455000</td>\n",
       "      <td>100.000000</td>\n",
       "      <td>56.996900</td>\n",
       "      <td>350.000000</td>\n",
       "      <td>886.000000</td>\n",
       "      <td>977.000000</td>\n",
       "    </tr>\n",
       "  </tbody>\n",
       "</table>\n",
       "</div>"
      ],
      "text/plain": [
       "       season      holiday   workingday      weather         temp  \\\n",
       "count  2733.0  2733.000000  2733.000000  2733.000000  2733.000000   \n",
       "mean      3.0     0.035126     0.675082     1.366630    28.789111   \n",
       "std       0.0     0.184133     0.468430     0.614799     3.898157   \n",
       "min       3.0     0.000000     0.000000     1.000000    15.580000   \n",
       "25%       3.0     0.000000     0.000000     1.000000    26.240000   \n",
       "50%       3.0     0.000000     1.000000     1.000000    28.700000   \n",
       "75%       3.0     0.000000     1.000000     2.000000    31.160000   \n",
       "max       3.0     1.000000     1.000000     3.000000    41.000000   \n",
       "\n",
       "             atemp     humidity    windspeed       casual   registered  \\\n",
       "count  2733.000000  2733.000000  2733.000000  2733.000000  2733.000000   \n",
       "mean     32.540783    64.123674    11.508862    52.220271   182.196853   \n",
       "std       4.594888    17.217859     7.160605    54.638059   164.386982   \n",
       "min      12.120000    17.000000     0.000000     0.000000     0.000000   \n",
       "25%      30.305000    51.000000     7.001500    10.000000    53.000000   \n",
       "50%      33.335000    66.000000    11.001400    36.000000   151.000000   \n",
       "75%      35.605000    78.000000    15.001300    74.000000   252.000000   \n",
       "max      45.455000   100.000000    56.996900   350.000000   886.000000   \n",
       "\n",
       "             count  \n",
       "count  2733.000000  \n",
       "mean    234.417124  \n",
       "std     197.151001  \n",
       "min       1.000000  \n",
       "25%      68.000000  \n",
       "50%     195.000000  \n",
       "75%     347.000000  \n",
       "max     977.000000  "
      ]
     },
     "execution_count": 229,
     "metadata": {},
     "output_type": "execute_result"
    }
   ],
   "source": [
    "c.describe()"
   ]
  },
  {
   "cell_type": "code",
   "execution_count": 230,
   "id": "6b7aa8cb",
   "metadata": {},
   "outputs": [
    {
     "data": {
      "text/html": [
       "<div>\n",
       "<style scoped>\n",
       "    .dataframe tbody tr th:only-of-type {\n",
       "        vertical-align: middle;\n",
       "    }\n",
       "\n",
       "    .dataframe tbody tr th {\n",
       "        vertical-align: top;\n",
       "    }\n",
       "\n",
       "    .dataframe thead th {\n",
       "        text-align: right;\n",
       "    }\n",
       "</style>\n",
       "<table border=\"1\" class=\"dataframe\">\n",
       "  <thead>\n",
       "    <tr style=\"text-align: right;\">\n",
       "      <th></th>\n",
       "      <th>season</th>\n",
       "      <th>holiday</th>\n",
       "      <th>workingday</th>\n",
       "      <th>weather</th>\n",
       "      <th>temp</th>\n",
       "      <th>atemp</th>\n",
       "      <th>humidity</th>\n",
       "      <th>windspeed</th>\n",
       "      <th>casual</th>\n",
       "      <th>registered</th>\n",
       "      <th>count</th>\n",
       "    </tr>\n",
       "  </thead>\n",
       "  <tbody>\n",
       "    <tr>\n",
       "      <th>count</th>\n",
       "      <td>2734.0</td>\n",
       "      <td>2734.000000</td>\n",
       "      <td>2734.000000</td>\n",
       "      <td>2734.000000</td>\n",
       "      <td>2734.000000</td>\n",
       "      <td>2734.000000</td>\n",
       "      <td>2734.000000</td>\n",
       "      <td>2734.000000</td>\n",
       "      <td>2734.000000</td>\n",
       "      <td>2734.000000</td>\n",
       "      <td>2734.000000</td>\n",
       "    </tr>\n",
       "    <tr>\n",
       "      <th>mean</th>\n",
       "      <td>4.0</td>\n",
       "      <td>0.035113</td>\n",
       "      <td>0.675201</td>\n",
       "      <td>1.459766</td>\n",
       "      <td>16.649239</td>\n",
       "      <td>20.059909</td>\n",
       "      <td>66.173738</td>\n",
       "      <td>11.678147</td>\n",
       "      <td>28.580834</td>\n",
       "      <td>170.407462</td>\n",
       "      <td>198.988296</td>\n",
       "    </tr>\n",
       "    <tr>\n",
       "      <th>std</th>\n",
       "      <td>0.0</td>\n",
       "      <td>0.184100</td>\n",
       "      <td>0.468385</td>\n",
       "      <td>0.642749</td>\n",
       "      <td>4.742176</td>\n",
       "      <td>5.264197</td>\n",
       "      <td>17.813446</td>\n",
       "      <td>7.842632</td>\n",
       "      <td>42.596214</td>\n",
       "      <td>154.828357</td>\n",
       "      <td>177.622409</td>\n",
       "    </tr>\n",
       "    <tr>\n",
       "      <th>min</th>\n",
       "      <td>4.0</td>\n",
       "      <td>0.000000</td>\n",
       "      <td>0.000000</td>\n",
       "      <td>1.000000</td>\n",
       "      <td>5.740000</td>\n",
       "      <td>7.575000</td>\n",
       "      <td>16.000000</td>\n",
       "      <td>0.000000</td>\n",
       "      <td>0.000000</td>\n",
       "      <td>1.000000</td>\n",
       "      <td>1.000000</td>\n",
       "    </tr>\n",
       "    <tr>\n",
       "      <th>25%</th>\n",
       "      <td>4.0</td>\n",
       "      <td>0.000000</td>\n",
       "      <td>0.000000</td>\n",
       "      <td>1.000000</td>\n",
       "      <td>13.120000</td>\n",
       "      <td>15.910000</td>\n",
       "      <td>52.000000</td>\n",
       "      <td>7.001500</td>\n",
       "      <td>4.000000</td>\n",
       "      <td>46.000000</td>\n",
       "      <td>51.000000</td>\n",
       "    </tr>\n",
       "    <tr>\n",
       "      <th>50%</th>\n",
       "      <td>4.0</td>\n",
       "      <td>0.000000</td>\n",
       "      <td>1.000000</td>\n",
       "      <td>1.000000</td>\n",
       "      <td>16.400000</td>\n",
       "      <td>20.455000</td>\n",
       "      <td>66.000000</td>\n",
       "      <td>11.001400</td>\n",
       "      <td>14.000000</td>\n",
       "      <td>139.000000</td>\n",
       "      <td>161.000000</td>\n",
       "    </tr>\n",
       "    <tr>\n",
       "      <th>75%</th>\n",
       "      <td>4.0</td>\n",
       "      <td>0.000000</td>\n",
       "      <td>1.000000</td>\n",
       "      <td>2.000000</td>\n",
       "      <td>20.500000</td>\n",
       "      <td>24.240000</td>\n",
       "      <td>81.000000</td>\n",
       "      <td>16.997900</td>\n",
       "      <td>33.000000</td>\n",
       "      <td>238.750000</td>\n",
       "      <td>294.000000</td>\n",
       "    </tr>\n",
       "    <tr>\n",
       "      <th>max</th>\n",
       "      <td>4.0</td>\n",
       "      <td>1.000000</td>\n",
       "      <td>1.000000</td>\n",
       "      <td>3.000000</td>\n",
       "      <td>30.340000</td>\n",
       "      <td>34.090000</td>\n",
       "      <td>100.000000</td>\n",
       "      <td>43.000600</td>\n",
       "      <td>362.000000</td>\n",
       "      <td>857.000000</td>\n",
       "      <td>948.000000</td>\n",
       "    </tr>\n",
       "  </tbody>\n",
       "</table>\n",
       "</div>"
      ],
      "text/plain": [
       "       season      holiday   workingday      weather         temp  \\\n",
       "count  2734.0  2734.000000  2734.000000  2734.000000  2734.000000   \n",
       "mean      4.0     0.035113     0.675201     1.459766    16.649239   \n",
       "std       0.0     0.184100     0.468385     0.642749     4.742176   \n",
       "min       4.0     0.000000     0.000000     1.000000     5.740000   \n",
       "25%       4.0     0.000000     0.000000     1.000000    13.120000   \n",
       "50%       4.0     0.000000     1.000000     1.000000    16.400000   \n",
       "75%       4.0     0.000000     1.000000     2.000000    20.500000   \n",
       "max       4.0     1.000000     1.000000     3.000000    30.340000   \n",
       "\n",
       "             atemp     humidity    windspeed       casual   registered  \\\n",
       "count  2734.000000  2734.000000  2734.000000  2734.000000  2734.000000   \n",
       "mean     20.059909    66.173738    11.678147    28.580834   170.407462   \n",
       "std       5.264197    17.813446     7.842632    42.596214   154.828357   \n",
       "min       7.575000    16.000000     0.000000     0.000000     1.000000   \n",
       "25%      15.910000    52.000000     7.001500     4.000000    46.000000   \n",
       "50%      20.455000    66.000000    11.001400    14.000000   139.000000   \n",
       "75%      24.240000    81.000000    16.997900    33.000000   238.750000   \n",
       "max      34.090000   100.000000    43.000600   362.000000   857.000000   \n",
       "\n",
       "             count  \n",
       "count  2734.000000  \n",
       "mean    198.988296  \n",
       "std     177.622409  \n",
       "min       1.000000  \n",
       "25%      51.000000  \n",
       "50%     161.000000  \n",
       "75%     294.000000  \n",
       "max     948.000000  "
      ]
     },
     "execution_count": 230,
     "metadata": {},
     "output_type": "execute_result"
    }
   ],
   "source": [
    "d.describe()"
   ]
  },
  {
   "cell_type": "markdown",
   "id": "1ce58a7e",
   "metadata": {},
   "source": [
    "#### The standard deviation of count is almost similar in all the groups and so equal variances can be assumed"
   ]
  },
  {
   "cell_type": "code",
   "execution_count": 231,
   "id": "e5ee8364",
   "metadata": {},
   "outputs": [
    {
     "name": "stdout",
     "output_type": "stream",
     "text": [
      "236.94671081032106\n",
      "6.164843386499654e-149\n"
     ]
    }
   ],
   "source": [
    "# 5. Finding p value at 95% confidence with a significance value of 0.05\n",
    "f_stat,p_value=f_oneway(a['count'],b['count'],c['count'],d['count'])\n",
    "print(f_stat)\n",
    "print(p_value)"
   ]
  },
  {
   "cell_type": "code",
   "execution_count": 232,
   "id": "515237bc",
   "metadata": {},
   "outputs": [
    {
     "name": "stdout",
     "output_type": "stream",
     "text": [
      "Reject H0\n"
     ]
    }
   ],
   "source": [
    "# 6. Conclusion based on the p value\n",
    "alpha=0.05\n",
    "if p_value< alpha:\n",
    "    print('Reject H0')\n",
    "else:\n",
    "    print('Fail to reject H0')"
   ]
  },
  {
   "cell_type": "markdown",
   "id": "98aa8351",
   "metadata": {},
   "source": [
    "### Based on the Anova test, we reject the null hypothesis. So we can confirm that season does have an effect on the number of electric cycles rented as is seen in the visual analysis also."
   ]
  },
  {
   "cell_type": "markdown",
   "id": "fee69987",
   "metadata": {},
   "source": [
    "### 2.4 Checking if season has an effect on the weather"
   ]
  },
  {
   "cell_type": "code",
   "execution_count": 262,
   "id": "fde4b50c",
   "metadata": {},
   "outputs": [
    {
     "data": {
      "text/plain": [
       "<AxesSubplot:xlabel='weather', ylabel='count'>"
      ]
     },
     "execution_count": 262,
     "metadata": {},
     "output_type": "execute_result"
    },
    {
     "data": {
      "image/png": "[encoded data removed]",
      "text/plain": [
       "<Figure size 432x288 with 1 Axes>"
      ]
     },
     "metadata": {
      "needs_background": "light"
     },
     "output_type": "display_data"
    }
   ],
   "source": [
    "# 1. Visual Analysis\n",
    "sns.countplot(data=df,x=df['weather'],hue=df['season'])"
   ]
  },
  {
   "cell_type": "markdown",
   "id": "60aff899",
   "metadata": {},
   "source": [
    "### Across all 4 seasons, clear weather was found more in summer and mist+cloudy weather in winter"
   ]
  },
  {
   "cell_type": "markdown",
   "id": "f3be3d02",
   "metadata": {},
   "source": [
    "#### 2. Hypothesis Formulation\n",
    "#### H0 : Season has no effect on the weather\n",
    "#### Ha : Season has an effect on the weather"
   ]
  },
  {
   "cell_type": "markdown",
   "id": "a36e8e66",
   "metadata": {},
   "source": [
    "#### 3. Select the appropriate test\n",
    "#### We are comparing a categorical variable(Season) against another categorical variable(weather) \n",
    "#### So we will be using the Chisquare test in this case"
   ]
  },
  {
   "cell_type": "markdown",
   "id": "4a8aaa99",
   "metadata": {},
   "source": [
    "#### 4. Check Test assumptions\n",
    "####   1. Data values are categorical - True for season and weather columns in this dataset\n",
    "####   2. Observations are independent - True for this data\n",
    "####   3. Each cell is mutually exclusive - True for this data"
   ]
  },
  {
   "cell_type": "code",
   "execution_count": 255,
   "id": "dfea6903",
   "metadata": {},
   "outputs": [
    {
     "data": {
      "text/html": [
       "<div>\n",
       "<style scoped>\n",
       "    .dataframe tbody tr th:only-of-type {\n",
       "        vertical-align: middle;\n",
       "    }\n",
       "\n",
       "    .dataframe tbody tr th {\n",
       "        vertical-align: top;\n",
       "    }\n",
       "\n",
       "    .dataframe thead th {\n",
       "        text-align: right;\n",
       "    }\n",
       "</style>\n",
       "<table border=\"1\" class=\"dataframe\">\n",
       "  <thead>\n",
       "    <tr style=\"text-align: right;\">\n",
       "      <th>weather</th>\n",
       "      <th>1</th>\n",
       "      <th>2</th>\n",
       "      <th>3</th>\n",
       "      <th>4</th>\n",
       "    </tr>\n",
       "    <tr>\n",
       "      <th>season</th>\n",
       "      <th></th>\n",
       "      <th></th>\n",
       "      <th></th>\n",
       "      <th></th>\n",
       "    </tr>\n",
       "  </thead>\n",
       "  <tbody>\n",
       "    <tr>\n",
       "      <th>1</th>\n",
       "      <td>1759</td>\n",
       "      <td>715</td>\n",
       "      <td>211</td>\n",
       "      <td>1</td>\n",
       "    </tr>\n",
       "    <tr>\n",
       "      <th>2</th>\n",
       "      <td>1801</td>\n",
       "      <td>708</td>\n",
       "      <td>224</td>\n",
       "      <td>0</td>\n",
       "    </tr>\n",
       "    <tr>\n",
       "      <th>3</th>\n",
       "      <td>1930</td>\n",
       "      <td>604</td>\n",
       "      <td>199</td>\n",
       "      <td>0</td>\n",
       "    </tr>\n",
       "    <tr>\n",
       "      <th>4</th>\n",
       "      <td>1702</td>\n",
       "      <td>807</td>\n",
       "      <td>225</td>\n",
       "      <td>0</td>\n",
       "    </tr>\n",
       "  </tbody>\n",
       "</table>\n",
       "</div>"
      ],
      "text/plain": [
       "weather     1    2    3  4\n",
       "season                    \n",
       "1        1759  715  211  1\n",
       "2        1801  708  224  0\n",
       "3        1930  604  199  0\n",
       "4        1702  807  225  0"
      ]
     },
     "execution_count": 255,
     "metadata": {},
     "output_type": "execute_result"
    }
   ],
   "source": [
    "# Check Test Assumptions\n",
    "# 4. Expected value in each cell is greater than 5\n",
    "weather_season=pd.crosstab(index=df['season'],columns=df['weather'])\n",
    "weather_season"
   ]
  },
  {
   "cell_type": "markdown",
   "id": "f5fbeed7",
   "metadata": {},
   "source": [
    "#### From the frequency table, we can see that number of values in weather category 4 is less than 5, so we will ignore that category for this analysis."
   ]
  },
  {
   "cell_type": "code",
   "execution_count": 258,
   "id": "86611970",
   "metadata": {},
   "outputs": [
    {
     "data": {
      "text/html": [
       "<div>\n",
       "<style scoped>\n",
       "    .dataframe tbody tr th:only-of-type {\n",
       "        vertical-align: middle;\n",
       "    }\n",
       "\n",
       "    .dataframe tbody tr th {\n",
       "        vertical-align: top;\n",
       "    }\n",
       "\n",
       "    .dataframe thead th {\n",
       "        text-align: right;\n",
       "    }\n",
       "</style>\n",
       "<table border=\"1\" class=\"dataframe\">\n",
       "  <thead>\n",
       "    <tr style=\"text-align: right;\">\n",
       "      <th>weather</th>\n",
       "      <th>1</th>\n",
       "      <th>2</th>\n",
       "      <th>3</th>\n",
       "    </tr>\n",
       "    <tr>\n",
       "      <th>season</th>\n",
       "      <th></th>\n",
       "      <th></th>\n",
       "      <th></th>\n",
       "    </tr>\n",
       "  </thead>\n",
       "  <tbody>\n",
       "    <tr>\n",
       "      <th>1</th>\n",
       "      <td>1759</td>\n",
       "      <td>715</td>\n",
       "      <td>211</td>\n",
       "    </tr>\n",
       "    <tr>\n",
       "      <th>2</th>\n",
       "      <td>1801</td>\n",
       "      <td>708</td>\n",
       "      <td>224</td>\n",
       "    </tr>\n",
       "    <tr>\n",
       "      <th>3</th>\n",
       "      <td>1930</td>\n",
       "      <td>604</td>\n",
       "      <td>199</td>\n",
       "    </tr>\n",
       "    <tr>\n",
       "      <th>4</th>\n",
       "      <td>1702</td>\n",
       "      <td>807</td>\n",
       "      <td>225</td>\n",
       "    </tr>\n",
       "  </tbody>\n",
       "</table>\n",
       "</div>"
      ],
      "text/plain": [
       "weather     1    2    3\n",
       "season                 \n",
       "1        1759  715  211\n",
       "2        1801  708  224\n",
       "3        1930  604  199\n",
       "4        1702  807  225"
      ]
     },
     "execution_count": 258,
     "metadata": {},
     "output_type": "execute_result"
    }
   ],
   "source": [
    "df_new=df[df['weather']!=4]\n",
    "weather_season_new=pd.crosstab(index=df_new['season'],columns=df_new['weather'])\n",
    "weather_season_new"
   ]
  },
  {
   "cell_type": "code",
   "execution_count": 261,
   "id": "99f79a6d",
   "metadata": {},
   "outputs": [
    {
     "name": "stdout",
     "output_type": "stream",
     "text": [
      "46.10145731073249\n",
      "2.8260014509929343e-08\n",
      "6\n",
      "[[1774.04869086  699.06201194  211.8892972 ]\n",
      " [1805.76352779  711.55920992  215.67726229]\n",
      " [1805.76352779  711.55920992  215.67726229]\n",
      " [1806.42425356  711.81956821  215.75617823]]\n"
     ]
    }
   ],
   "source": [
    "# 5. Finding p value at 95% confidence with a significance value of 0.05\n",
    "chi_stat,p_value,dof,expected=chi2_contingency(weather_season_new)\n",
    "print(chi_stat)\n",
    "print(p_value)\n",
    "print(dof)\n",
    "print(expected)"
   ]
  },
  {
   "cell_type": "code",
   "execution_count": 247,
   "id": "d22706e3",
   "metadata": {},
   "outputs": [
    {
     "name": "stdout",
     "output_type": "stream",
     "text": [
      "Reject H0\n"
     ]
    }
   ],
   "source": [
    "# 6. Conclusion based on the p value\n",
    "alpha=0.05\n",
    "if p_value< alpha:\n",
    "    print('Reject H0')\n",
    "else:\n",
    "    print('Fail to reject H0')"
   ]
  },
  {
   "cell_type": "markdown",
   "id": "7f9b14f0",
   "metadata": {},
   "source": [
    "### Based on the Chisquare test, we reject the null hypothesis. So we can confirm that season does have an effect on the weather."
   ]
  }
 ],
 "metadata": {
  "kernelspec": {
   "display_name": "Python 3 (ipykernel)",
   "language": "python",
   "name": "python3"
  },
  "language_info": {
   "codemirror_mode": {
    "name": "ipython",
    "version": 3
   },
   "file_extension": ".py",
   "mimetype": "text/x-python",
   "name": "python",
   "nbconvert_exporter": "python",
   "pygments_lexer": "ipython3",
   "version": "3.9.12"
  }
 },
 "nbformat": 4,
 "nbformat_minor": 5
}
